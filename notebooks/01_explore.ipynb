{
 "cells": [
  {
   "cell_type": "code",
   "execution_count": 4,
   "id": "b71d821c",
   "metadata": {},
   "outputs": [
    {
     "name": "stdout",
     "output_type": "stream",
     "text": [
      "CWD: /Users/abdulrahmanaboluhom/Documents/GitHub/Projects/indepth-driving-data-analysis\n",
      "Python: 3.9.6 | pandas: 2.3.1\n",
      "The autoreload extension is already loaded. To reload it, use:\n",
      "  %reload_ext autoreload\n"
     ]
    }
   ],
   "source": [
    "# Bootstrap: set repo root, show env, & auto-reload src/ code\n",
    "import os, pathlib, sys, pandas as pd\n",
    "\n",
    "# Ensure CWD is the repo root (parent of notebooks/)\n",
    "if pathlib.Path().resolve().name == \"notebooks\":\n",
    "    os.chdir(\"..\")\n",
    "print(\"CWD:\", os.getcwd())\n",
    "print(\"Python:\", sys.version.split()[0], \"| pandas:\", pd.__version__)\n",
    "\n",
    "# Auto-reload edited modules in src/ without full kernel restarts\n",
    "%load_ext autoreload\n",
    "%autoreload 2"
   ]
  },
  {
   "cell_type": "code",
   "execution_count": 5,
   "id": "d6344631-deaf-436e-bb48-9bca515b1a5f",
   "metadata": {},
   "outputs": [],
   "source": [
    "from pathlib import Path\n",
    "from src.ingest import load_journey_event_with_config\n",
    "from src.validate import validate_journey_event"
   ]
  },
  {
   "cell_type": "code",
   "execution_count": 6,
   "id": "2b06c22d-645a-4715-8003-5b884e0a99b1",
   "metadata": {},
   "outputs": [],
   "source": [
    "CFG = {\n",
    "    \"sheet_name\": \"Journey_Event_Sample\",\n",
    "    \"header\": \"auto\",\n",
    "    \"usecols\": \"B:BC\",\n",
    "    \"nrows\": 400,  # remove or set to None when loading full data\n",
    "    \"date_cols\": [\"RTC Date Time\",\"GPS Date Time\",\"Event Time Stamp\"],\n",
    "    \"dayfirst\": True,\n",
    "    \"keep_cols\": [\n",
    "        \"Policy Number\",\"Voucher ID\",\"Journey ID\",\n",
    "        \"Event Time Stamp\",\"GPS Date Time\",\n",
    "        \"Latitude\",\"Longitude\",\n",
    "        \"Event Type\",\"Horizontal Speed\",\"Road Speed Limit\",\n",
    "        \"Accumulated Trip Distance\",\"Accumulated Trip Idle Time\",\"Accumulated Trip Run Time\",\n",
    "    ],\n",
    "    \"validate\": True,  # run P-T-R on the keep set\n",
    "}\n",
    "file = \"data/raw/driving_sample.xlsx\""
   ]
  },
  {
   "cell_type": "code",
   "execution_count": 7,
   "id": "a5e88563-e395-4fcd-896a-89987477166f",
   "metadata": {},
   "outputs": [],
   "source": [
    "df_keep = load_journey_event_with_config(\n",
    "    xlsx_path=file,\n",
    "    cfg=CFG,\n",
    "    write_interim=Path(\"data/interim/journey_event_sample_keep.parquet\")\n",
    ")"
   ]
  },
  {
   "cell_type": "code",
   "execution_count": 9,
   "id": "e0605f47-07f2-40b0-8f90-4a5179134882",
   "metadata": {},
   "outputs": [
    {
     "name": "stdout",
     "output_type": "stream",
     "text": [
      "shape: (384, 13)\n",
      "columns: ['Policy Number', 'Voucher ID', 'Journey ID', 'Event Time Stamp', 'GPS Date Time', 'Latitude', 'Longitude', 'Event Type'] …\n",
      "Event Time Stamp    datetime64[ns]\n",
      "Latitude                   float64\n",
      "Longitude                  float64\n",
      "dtype: object\n",
      "✅ schema ok\n"
     ]
    }
   ],
   "source": [
    "print(\"shape:\", df_keep.shape)\n",
    "print(\"columns:\", list(df_keep.columns)[:8], \"…\")\n",
    "print(df_keep[[\"Event Time Stamp\",\"Latitude\",\"Longitude\"]].dtypes)\n",
    "from src.validate import validate_journey_event\n",
    "validate_journey_event(df_keep)\n",
    "print(\"✅ schema ok\")"
   ]
  },
  {
   "cell_type": "markdown",
   "id": "4bd744e3-e02e-41d8-a4b4-6132f6803c9b",
   "metadata": {},
   "source": [
    "# Exploration"
   ]
  },
  {
   "cell_type": "code",
   "execution_count": null,
   "id": "4dcf2f25-0901-4997-a527-4db463257945",
   "metadata": {},
   "outputs": [],
   "source": []
  },
  {
   "cell_type": "markdown",
   "id": "c71ea45d-a1c3-4e7c-99b3-cc61c47cdcb8",
   "metadata": {
    "jp-MarkdownHeadingCollapsed": true
   },
   "source": [
    "# Dev helpers (Archive)"
   ]
  },
  {
   "cell_type": "code",
   "execution_count": null,
   "id": "217bbfb6-5262-4a81-b57f-0872d6d97a2f",
   "metadata": {},
   "outputs": [],
   "source": [
    "from src.ingest import load_journey_event_with_config\n",
    "\n",
    "CFG = {\n",
    "    \"sheet_name\": \"Journey_Event_Sample\",\n",
    "    \"header\": \"auto\",\n",
    "    \"usecols\": \"B:BC\",\n",
    "    \"nrows\": 400,  # sample for speed; remove later for full load\n",
    "    \"date_cols\": [\"RTC Date Time\",\"GPS Date Time\",\"Event Time Stamp\"],\n",
    "    \"dayfirst\": True,\n",
    "    \"keep_cols\": [\n",
    "        \"Policy Number\",\"Voucher ID\",\"Journey ID\",\n",
    "        \"Event Time Stamp\",\"GPS Date Time\",\n",
    "        \"Latitude\",\"Longitude\",\n",
    "        \"Event Type\",\"Horizontal Speed\",\"Road Speed Limit\",\n",
    "        \"Accumulated Trip Distance\",\"Accumulated Trip Idle Time\",\"Accumulated Trip Run Time\",\n",
    "    ],\n",
    "    \"validate\": True,  # run P‑T‑R on the keep set\n",
    "}\n",
    "\n",
    "file = \"data/raw/driving_sample.xlsx\"\n",
    "\n",
    "df_keep = load_journey_event_with_config(\n",
    "    xlsx_path=file,\n",
    "    cfg=CFG,\n",
    "    write_interim=Path(\"data/interim/journey_event_sample_keep.parquet\")  # or None if you don’t want to write\n",
    ")\n",
    "\n",
    "df_keep.head(2), df_keep.shape"
   ]
  },
  {
   "cell_type": "code",
   "execution_count": null,
   "id": "6ed59d42-83e3-4ab4-a6f3-28448711b3c2",
   "metadata": {},
   "outputs": [],
   "source": [
    "import importlib, types\n",
    "\n",
    "import src.ingest as ingest\n",
    "importlib.reload(ingest)     # picks up latest file contents\n",
    "\n",
    "print(\"Attributes on ingest:\", [a for a in dir(ingest) if not a.startswith(\"_\")])"
   ]
  },
  {
   "cell_type": "code",
   "execution_count": null,
   "id": "b59e7287-e92a-47bc-a3bb-c978c29d9430",
   "metadata": {},
   "outputs": [],
   "source": [
    "from src.ingest import load_journey_event"
   ]
  },
  {
   "cell_type": "code",
   "execution_count": null,
   "id": "a7c0ecb3-85cf-4e91-8029-762adab38604",
   "metadata": {},
   "outputs": [],
   "source": [
    "# testing function\n",
    "# import the loader\n",
    "from src.ingest import load_journey_event\n",
    "\n",
    "file = \"data/raw/driving_sample.xlsx\"\n",
    "sheet = \"Journey_Event_Sample\"\n",
    "\n",
    "df = load_journey_event(\n",
    "    xlsx_path=file,\n",
    "    sheet_name=sheet,\n",
    "    header=\"auto\",                      # or 0 if you want to force it\n",
    "    usecols=\"B:BC\",                     # skip blank col A\n",
    "    nrows=400,                          # sample size for speed\n",
    "    date_cols=[\"RTC Date Time\",\"GPS Date Time\",\"Event Time Stamp\"],\n",
    "    dayfirst=True\n",
    ")\n",
    "\n",
    "df.head(2), df.shape"
   ]
  },
  {
   "cell_type": "code",
   "execution_count": null,
   "id": "fe1beef2-2790-451c-a282-41ffc6a8a5ef",
   "metadata": {},
   "outputs": [],
   "source": [
    "#Data path & sheet list (Code)\n",
    "\n",
    "from pathlib import Path\n",
    "DATA = Path(\"data/raw\")\n",
    "file = DATA / \"driving_sample.xlsx\"  # <-- change to actual filename\n",
    "print(\"File exists:\", file.exists())\n",
    "\n",
    "xls = pd.ExcelFile(file)\n",
    "xls.sheet_names  # check the exact messy sheet name here"
   ]
  },
  {
   "cell_type": "code",
   "execution_count": null,
   "id": "dca05401-f55e-4856-bd28-39797f9875d1",
   "metadata": {},
   "outputs": [],
   "source": [
    "print(\"shape:\", df.shape)\n",
    "print(\"first 12 columns:\", df.columns[:12].tolist())\n",
    "\n",
    "# QUICK: are the three date columns even present?\n",
    "date_cols = [\"RTC Date Time\", \"GPS Date Time\", \"Event Time Stamp\"]\n",
    "present = [c for c in date_cols if c in df.columns]\n",
    "missing = [c for c in date_cols if c not in df.columns]\n",
    "print(\"date cols present:\", present, \"| missing:\", missing)\n",
    "\n",
    "# show dtypes of a few key columns\n",
    "cols_probe = present + [c for c in [\"Event Type\",\"Latitude\",\"Longitude\",\"Horizontal Speed\",\"Road Speed Limit\"] if c in df.columns]\n",
    "df[cols_probe].dtypes"
   ]
  },
  {
   "cell_type": "code",
   "execution_count": null,
   "id": "da4abef3-2369-4271-a80e-406f184047da",
   "metadata": {},
   "outputs": [],
   "source": [
    "# column auditing\n",
    "\n",
    "rows = []\n",
    "for col in df.columns:\n",
    "    s = df[col]\n",
    "    rows.append({\n",
    "        \"column\": col,\n",
    "        \"dtype\": str(s.dtype),\n",
    "        \"null_pct\": round(100 * (1 - s.notna().mean()), 2),\n",
    "        \"n_unique\": int(s.nunique(dropna=True)),\n",
    "    })\n",
    "audit = pd.DataFrame(rows).sort_values([\"dtype\",\"column\"]).reset_index(drop=True)\n",
    "audit.head(15)"
   ]
  },
  {
   "cell_type": "code",
   "execution_count": null,
   "id": "9d7c1a9d-ffa1-4dbc-afd0-a6543f08dd56",
   "metadata": {},
   "outputs": [],
   "source": [
    "probe = [\"Event Type\",\"Delta Trip Distance\",\"Direction\",\"Altitude\",\"GPS Accuracy\"]\n",
    "[c for c in probe if c in df.columns], df[probe].head(2)"
   ]
  },
  {
   "cell_type": "code",
   "execution_count": null,
   "id": "ae7297c1-b22c-445f-9f61-34f7a14b1e5e",
   "metadata": {},
   "outputs": [],
   "source": []
  }
 ],
 "metadata": {
  "kernelspec": {
   "display_name": "Python 3 (ipykernel)",
   "language": "python",
   "name": "python3"
  },
  "language_info": {
   "codemirror_mode": {
    "name": "ipython",
    "version": 3
   },
   "file_extension": ".py",
   "mimetype": "text/x-python",
   "name": "python",
   "nbconvert_exporter": "python",
   "pygments_lexer": "ipython3",
   "version": "3.9.6"
  }
 },
 "nbformat": 4,
 "nbformat_minor": 5
}
