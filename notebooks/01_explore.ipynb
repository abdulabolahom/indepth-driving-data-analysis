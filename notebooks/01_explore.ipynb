{
 "cells": [
  {
   "cell_type": "markdown",
   "id": "25524b60-1ac6-49df-b87d-1a50730ca74f",
   "metadata": {},
   "source": [
    "# 01_explore — load, validate, sanity check"
   ]
  },
  {
   "cell_type": "markdown",
   "id": "8f523b85-7761-4fa9-be09-b0004aae8b90",
   "metadata": {},
   "source": [
    "## Bootstrap (env & autoreload)"
   ]
  },
  {
   "cell_type": "code",
   "execution_count": 2,
   "id": "b71d821c",
   "metadata": {},
   "outputs": [
    {
     "name": "stdout",
     "output_type": "stream",
     "text": [
      "CWD: /Users/abdulrahmanaboluhom/Documents/GitHub/Projects/indepth-driving-data-analysis\n",
      "Python: 3.9.6 | pandas: 2.3.1\n",
      "The autoreload extension is already loaded. To reload it, use:\n",
      "  %reload_ext autoreload\n"
     ]
    }
   ],
   "source": [
    "# Bootstrap: set repo root, show env, & auto-reload src/ code\n",
    "import os, pathlib, sys, pandas as pd\n",
    "\n",
    "# Ensure CWD is the repo root (parent of notebooks/)\n",
    "if pathlib.Path().resolve().name == \"notebooks\":\n",
    "    os.chdir(\"..\")\n",
    "print(\"CWD:\", os.getcwd())\n",
    "print(\"Python:\", sys.version.split()[0], \"| pandas:\", pd.__version__)\n",
    "\n",
    "# Auto-reload edited modules in src/ without full kernel restarts\n",
    "%load_ext autoreload\n",
    "%autoreload 2"
   ]
  },
  {
   "cell_type": "markdown",
   "id": "62002a55-393c-4d7e-b000-89ad64459909",
   "metadata": {
    "jp-MarkdownHeadingCollapsed": true
   },
   "source": [
    "## Imports"
   ]
  },
  {
   "cell_type": "code",
   "execution_count": 3,
   "id": "d6344631-deaf-436e-bb48-9bca515b1a5f",
   "metadata": {},
   "outputs": [],
   "source": [
    "from pathlib import Path\n",
    "from src.ingest import load_journey_event_with_config\n",
    "from src.validate import validate_journey_event"
   ]
  },
  {
   "cell_type": "markdown",
   "id": "6e21f90e-19cb-42fa-bcb8-c9efc66a7dc2",
   "metadata": {},
   "source": [
    "## Config"
   ]
  },
  {
   "cell_type": "markdown",
   "id": "df6f212d-70eb-40da-9ba4-523f07f474d3",
   "metadata": {
    "jp-MarkdownHeadingCollapsed": true
   },
   "source": [
    "### Sample data config"
   ]
  },
  {
   "cell_type": "code",
   "execution_count": 4,
   "id": "2b06c22d-645a-4715-8003-5b884e0a99b1",
   "metadata": {},
   "outputs": [],
   "source": [
    "CFG = {\n",
    "    \"sheet_name\": \"Journey_Event_Sample\",\n",
    "    \"header\": \"auto\",\n",
    "    \"usecols\": \"B:BC\",\n",
    "    \"nrows\": 400,  # remove or set to None when loading full data\n",
    "    \"date_cols\": [\"RTC Date Time\",\"GPS Date Time\",\"Event Time Stamp\"],\n",
    "    \"dayfirst\": True,\n",
    "    \"keep_cols\": [\n",
    "        \"Policy Number\",\"Voucher ID\",\"Journey ID\",\n",
    "        \"Event Time Stamp\",\"GPS Date Time\",\n",
    "        \"Latitude\",\"Longitude\",\n",
    "        \"Event Type\",\"Horizontal Speed\",\"Road Speed Limit\",\n",
    "        \"Accumulated Trip Distance\",\"Accumulated Trip Idle Time\",\"Accumulated Trip Run Time\",\n",
    "    ],\n",
    "    \"validate\": True,  # run P-T-R on the keep set\n",
    "}\n",
    "file = \"data/raw/driving_sample.xlsx\""
   ]
  },
  {
   "cell_type": "markdown",
   "id": "dff33fdb-3650-4879-8aa9-518ce6faae90",
   "metadata": {},
   "source": [
    "### Full data config"
   ]
  },
  {
   "cell_type": "code",
   "execution_count": 5,
   "id": "5e2dfb42-0456-483c-8ae4-c5d662b85545",
   "metadata": {},
   "outputs": [],
   "source": [
    "CFG_FULL = {\n",
    "    \"sheet_name\": \"Journey Event\",   # exact name in Excel\n",
    "    \"header\": \"auto\",\n",
    "    \"usecols\": \"B:BC\",               # skip blank col A if still there\n",
    "    \"date_cols\": [\"RTC Date Time\",\"GPS Date Time\",\"Event Time Stamp\"],\n",
    "    \"dayfirst\": True,\n",
    "    \"keep_cols\": [\n",
    "        \"Policy Number\",\"Voucher ID\",\"Journey ID\",\n",
    "        \"Event Time Stamp\",\"GPS Date Time\",\n",
    "        \"Latitude\",\"Longitude\",\n",
    "        \"Event Type\",\"Horizontal Speed\",\"Road Speed Limit\",\n",
    "        \"Accumulated Trip Distance\",\"Accumulated Trip Idle Time\",\"Accumulated Trip Run Time\",\n",
    "    ],\n",
    "    \"validate\": True\n",
    "}\n",
    "\n",
    "file_full = \"data/raw/TMT Data Full.xlsx\""
   ]
  },
  {
   "cell_type": "markdown",
   "id": "42de7b99-3520-4e36-8cad-5c111a29f5be",
   "metadata": {},
   "source": [
    "## Load (config-driven)"
   ]
  },
  {
   "cell_type": "markdown",
   "id": "9fd4fe54-d90a-4601-ada2-49f4dbd4d66a",
   "metadata": {},
   "source": [
    "### Sample Data load"
   ]
  },
  {
   "cell_type": "code",
   "execution_count": 6,
   "id": "a5e88563-e395-4fcd-896a-89987477166f",
   "metadata": {},
   "outputs": [],
   "source": [
    "df_keep = load_journey_event_with_config(\n",
    "    xlsx_path=file,\n",
    "    cfg=CFG,\n",
    "    write_interim=Path(\"data/interim/journey_event_sample_keep.parquet\")\n",
    ")"
   ]
  },
  {
   "cell_type": "markdown",
   "id": "e8ea3179-c965-49b4-91cb-7009efed88d0",
   "metadata": {},
   "source": [
    "### Full Data load"
   ]
  },
  {
   "cell_type": "code",
   "execution_count": 7,
   "id": "1736c2f6-92ca-45a0-ad9f-36ad0a56b051",
   "metadata": {},
   "outputs": [
    {
     "name": "stdout",
     "output_type": "stream",
     "text": [
      "Rows: 23405\n",
      "Date range: 2024-11-28 20:17:33 → 2025-07-28 14:54:08\n",
      "Columns: ['Policy Number', 'Voucher ID', 'Journey ID', 'Event Time Stamp', 'GPS Date Time', 'Latitude', 'Longitude', 'Event Type', 'Horizontal Speed', 'Road Speed Limit', 'Accumulated Trip Distance', 'Accumulated Trip Idle Time', 'Accumulated Trip Run Time']\n"
     ]
    }
   ],
   "source": [
    "df_keep_full = load_journey_event_with_config(\n",
    "    xlsx_path=file_full,\n",
    "    cfg=CFG_FULL,\n",
    "    write_interim=Path(\"data/interim/journey_event_keep_full.parquet\")\n",
    ")\n",
    "\n",
    "print(\"Rows:\", len(df_keep_full))\n",
    "print(\"Date range:\", df_keep_full[\"GPS Date Time\"].min(), \"→\", df_keep_full[\"GPS Date Time\"].max())\n",
    "print(\"Columns:\", df_keep_full.columns.tolist())"
   ]
  },
  {
   "cell_type": "markdown",
   "id": "c819e4c2-19b8-401b-9cd9-d96b5bb5e138",
   "metadata": {
    "jp-MarkdownHeadingCollapsed": true
   },
   "source": [
    "## Sanity & Validation"
   ]
  },
  {
   "cell_type": "code",
   "execution_count": 8,
   "id": "e0605f47-07f2-40b0-8f90-4a5179134882",
   "metadata": {},
   "outputs": [
    {
     "name": "stdout",
     "output_type": "stream",
     "text": [
      "shape: (384, 13)\n",
      "columns: ['Policy Number', 'Voucher ID', 'Journey ID', 'Event Time Stamp', 'GPS Date Time', 'Latitude', 'Longitude', 'Event Type'] …\n",
      "Event Time Stamp    datetime64[ns]\n",
      "Latitude                   float64\n",
      "Longitude                  float64\n",
      "dtype: object\n",
      "✅ schema ok\n"
     ]
    }
   ],
   "source": [
    "print(\"shape:\", df_keep.shape)\n",
    "print(\"columns:\", list(df_keep.columns)[:8], \"…\")\n",
    "print(df_keep[[\"Event Time Stamp\",\"Latitude\",\"Longitude\"]].dtypes)\n",
    "from src.validate import validate_journey_event\n",
    "validate_journey_event(df_keep)\n",
    "print(\"✅ schema ok\")"
   ]
  },
  {
   "cell_type": "markdown",
   "id": "4bd744e3-e02e-41d8-a4b4-6132f6803c9b",
   "metadata": {},
   "source": [
    "## Exploration"
   ]
  },
  {
   "cell_type": "markdown",
   "id": "c3c9b32b-d03c-4c78-acf8-d1d6867b3e4c",
   "metadata": {
    "jp-MarkdownHeadingCollapsed": true
   },
   "source": [
    "### Sample Data Exploration"
   ]
  },
  {
   "cell_type": "code",
   "execution_count": 9,
   "id": "b8756f93-46a9-49a2-af0d-15facca764e4",
   "metadata": {},
   "outputs": [
    {
     "data": {
      "text/plain": [
       "(Country                object\n",
       " City                   object\n",
       " Road Speed Limit        int64\n",
       " Event Type ID           int64\n",
       " Delta Trip Distance     int64\n",
       " dtype: object,\n",
       " Country                 1\n",
       " City                    8\n",
       " Road Speed Limit        6\n",
       " Event Type ID           3\n",
       " Delta Trip Distance    18\n",
       " dtype: int64,\n",
       "   Country      City  Road Speed Limit  Event Type ID  Delta Trip Distance\n",
       " 0     GBR  BRADFORD                32              1                    0\n",
       " 1     GBR  BRADFORD                32              3                    0\n",
       " 2     GBR  BRADFORD                32              3                    0)"
      ]
     },
     "execution_count": 9,
     "metadata": {},
     "output_type": "execute_result"
    }
   ],
   "source": [
    "# 1) Make a copy of your CFG but turn validation off and drop keep_cols\n",
    "CFG2 = {**CFG}\n",
    "CFG2.pop(\"keep_cols\", None)\n",
    "CFG2[\"validate\"] = False\n",
    "\n",
    "# 2) Load full columns (no write)\n",
    "df_full = load_journey_event_with_config(\n",
    "    xlsx_path=file,\n",
    "    cfg=CFG2,\n",
    "    write_interim=None\n",
    ")\n",
    "\n",
    "# 3) Probe the columns you want to document\n",
    "probe = [\"Country\",\"City\",\"Road Speed Limit\",\"Event Type ID\",\"Delta Trip Distance\"]\n",
    "present = [c for c in probe if c in df_full.columns]\n",
    "df_full[present].dtypes, df_full[present].nunique(), df_full[present].head(3)"
   ]
  },
  {
   "cell_type": "code",
   "execution_count": 10,
   "id": "184c7a8f-f8ac-4eb8-b2fe-9b63b59b8eee",
   "metadata": {},
   "outputs": [],
   "source": [
    "CFG = {\n",
    "    \"sheet_name\": \"Journey_Event_Sample\",\n",
    "    \"header\": \"auto\",\n",
    "    \"usecols\": \"B:BC\",\n",
    "    \"nrows\": 400,  # keep for speed now; remove later for full run\n",
    "    \"date_cols\": [\"RTC Date Time\",\"GPS Date Time\",\"Event Time Stamp\"],\n",
    "    \"dayfirst\": True,\n",
    "    \"keep_cols\": [\n",
    "        \"Policy Number\",\"Voucher ID\",\"Journey ID\",\n",
    "        \"Event Time Stamp\",\"GPS Date Time\",\n",
    "        \"Latitude\",\"Longitude\",\n",
    "        \"Event Type\",\"Horizontal Speed\",\"Road Speed Limit\",\n",
    "        \"Accumulated Trip Distance\",\"Accumulated Trip Idle Time\",\"Accumulated Trip Run Time\",\n",
    "    ],\n",
    "    \"validate\": True,\n",
    "}"
   ]
  },
  {
   "cell_type": "code",
   "execution_count": 11,
   "id": "eb692b5c-bd89-45b2-bc65-c7ae9f84188f",
   "metadata": {},
   "outputs": [
    {
     "name": "stdout",
     "output_type": "stream",
     "text": [
      "shape: (384, 13)\n",
      "cols: ['Policy Number', 'Voucher ID', 'Journey ID', 'Event Time Stamp', 'GPS Date Time', 'Latitude', 'Longitude', 'Event Type', 'Horizontal Speed', 'Road Speed Limit', 'Accumulated Trip Distance', 'Accumulated Trip Idle Time', 'Accumulated Trip Run Time']\n",
      "✅ schema ok\n"
     ]
    }
   ],
   "source": [
    "df_keep = load_journey_event_with_config(\n",
    "    xlsx_path=file,\n",
    "    cfg=CFG,\n",
    "    write_interim=Path(\"data/interim/journey_event_sample_keep.parquet\")\n",
    ")\n",
    "\n",
    "print(\"shape:\", df_keep.shape)\n",
    "print(\"cols:\", list(df_keep.columns))\n",
    "from src.validate import validate_journey_event\n",
    "validate_journey_event(df_keep)\n",
    "print(\"✅ schema ok\")"
   ]
  },
  {
   "cell_type": "code",
   "execution_count": 12,
   "id": "9fd47ed9-8800-4304-b843-279349770bdd",
   "metadata": {},
   "outputs": [
    {
     "name": "stdout",
     "output_type": "stream",
     "text": [
      "Chosen Journey ID: 230797620241129093202\n"
     ]
    },
    {
     "data": {
      "image/png": "[encoded data removed]",
      "text/plain": [
       "<Figure size 1000x400 with 1 Axes>"
      ]
     },
     "metadata": {},
     "output_type": "display_data"
    }
   ],
   "source": [
    "# pick a journey with enough points\n",
    "jid = df_keep[\"Journey ID\"].value_counts().index[0]\n",
    "print(\"Chosen Journey ID:\", jid)\n",
    "\n",
    "# pick columns safely and build a single time axis\n",
    "plot_cols = [\"GPS Date Time\",\"Event Time Stamp\",\"Horizontal Speed\",\"Road Speed Limit\"]\n",
    "present = [c for c in plot_cols if c in df_keep.columns]\n",
    "\n",
    "subset = (df_keep[df_keep[\"Journey ID\"] == jid]\n",
    "          .sort_values([\"GPS Date Time\",\"Event Time Stamp\"], ascending=True))[present].copy()\n",
    "subset[\"when\"] = subset[\"GPS Date Time\"].fillna(subset[\"Event Time Stamp\"])\n",
    "\n",
    "# plot\n",
    "import matplotlib.pyplot as plt\n",
    "\n",
    "plt.figure(figsize=(10,4))\n",
    "plt.plot(subset[\"when\"], subset[\"Horizontal Speed\"], label=\"Speed\")\n",
    "if \"Road Speed Limit\" in subset.columns:\n",
    "    plt.plot(subset[\"when\"], subset[\"Road Speed Limit\"], label=\"Limit\")\n",
    "plt.title(f\"Journey {jid}: Speed vs Time\")\n",
    "plt.xlabel(\"Time\")\n",
    "plt.ylabel(\"Speed\")\n",
    "plt.legend()\n",
    "plt.tight_layout()\n",
    "plt.show()"
   ]
  },
  {
   "cell_type": "code",
   "execution_count": 13,
   "id": "601fc95b-2c54-43b1-a706-7efbd709339c",
   "metadata": {},
   "outputs": [
    {
     "name": "stdout",
     "output_type": "stream",
     "text": [
      "Non-null 'when' ratio: 1.0\n"
     ]
    },
    {
     "data": {
      "text/html": [
       "<div>\n",
       "<style scoped>\n",
       "    .dataframe tbody tr th:only-of-type {\n",
       "        vertical-align: middle;\n",
       "    }\n",
       "\n",
       "    .dataframe tbody tr th {\n",
       "        vertical-align: top;\n",
       "    }\n",
       "\n",
       "    .dataframe thead th {\n",
       "        text-align: right;\n",
       "    }\n",
       "</style>\n",
       "<table border=\"1\" class=\"dataframe\">\n",
       "  <thead>\n",
       "    <tr style=\"text-align: right;\">\n",
       "      <th></th>\n",
       "      <th>GPS Date Time</th>\n",
       "      <th>Event Time Stamp</th>\n",
       "      <th>when</th>\n",
       "    </tr>\n",
       "  </thead>\n",
       "  <tbody>\n",
       "    <tr>\n",
       "      <th>0</th>\n",
       "      <td>2024-11-28 20:17:33</td>\n",
       "      <td>2024-11-28 20:34:58</td>\n",
       "      <td>2024-11-28 20:17:33</td>\n",
       "    </tr>\n",
       "    <tr>\n",
       "      <th>1</th>\n",
       "      <td>2024-11-28 20:35:58</td>\n",
       "      <td>2024-11-28 20:35:58</td>\n",
       "      <td>2024-11-28 20:35:58</td>\n",
       "    </tr>\n",
       "    <tr>\n",
       "      <th>2</th>\n",
       "      <td>2024-11-28 20:36:58</td>\n",
       "      <td>2024-11-28 20:36:58</td>\n",
       "      <td>2024-11-28 20:36:58</td>\n",
       "    </tr>\n",
       "  </tbody>\n",
       "</table>\n",
       "</div>"
      ],
      "text/plain": [
       "        GPS Date Time    Event Time Stamp                when\n",
       "0 2024-11-28 20:17:33 2024-11-28 20:34:58 2024-11-28 20:17:33\n",
       "1 2024-11-28 20:35:58 2024-11-28 20:35:58 2024-11-28 20:35:58\n",
       "2 2024-11-28 20:36:58 2024-11-28 20:36:58 2024-11-28 20:36:58"
      ]
     },
     "execution_count": 13,
     "metadata": {},
     "output_type": "execute_result"
    }
   ],
   "source": [
    "# Derive a single reliable timestamp column\n",
    "# Prefer GPS time; if it's missing, use device event time.\n",
    "df_keep = df_keep.copy()\n",
    "df_keep[\"when\"] = df_keep[\"GPS Date Time\"].fillna(df_keep[\"Event Time Stamp\"])\n",
    "\n",
    "# Quick sanity: make sure it's datetime and we have data\n",
    "assert str(df_keep[\"when\"].dtype).startswith(\"datetime64\"), \"when is not datetime\"\n",
    "print(\"Non-null 'when' ratio:\", df_keep[\"when\"].notna().mean())\n",
    "df_keep[[\"GPS Date Time\",\"Event Time Stamp\",\"when\"]].head(3)"
   ]
  },
  {
   "cell_type": "code",
   "execution_count": 14,
   "id": "46b6fd3d-2c37-4491-8bda-09346e2a0a66",
   "metadata": {},
   "outputs": [
    {
     "name": "stdout",
     "output_type": "stream",
     "text": [
      "First event: 2024-11-28 20:17:33\n",
      "Last event: 2024-11-30 21:43:51\n"
     ]
    },
    {
     "data": {
      "text/plain": [
       "(when\n",
       " 0    35\n",
       " 1     0\n",
       " 2     0\n",
       " 3     0\n",
       " 4     0\n",
       " Name: count, dtype: int64,\n",
       " np.int64(384))"
      ]
     },
     "execution_count": 14,
     "metadata": {},
     "output_type": "execute_result"
    }
   ],
   "source": [
    "print(\"First event:\", df_keep[\"when\"].min())\n",
    "print(\"Last event:\", df_keep[\"when\"].max())\n",
    "\n",
    "# Extract hour (0..23) from 'when'\n",
    "hours = df_keep[\"when\"].dt.hour\n",
    "\n",
    "# Count events per hour (0..23), fill missing hours with 0 for a clean plot\n",
    "hour_counts = hours.value_counts().reindex(range(24), fill_value=0).sort_index()\n",
    "hour_counts.head(), hour_counts.sum()\n"
   ]
  },
  {
   "cell_type": "code",
   "execution_count": 15,
   "id": "28eb896a-40e7-474c-a5a1-9acbab6020fe",
   "metadata": {},
   "outputs": [
    {
     "data": {
      "image/png": "[encoded data removed]",
      "text/plain": [
       "<Figure size 900x350 with 1 Axes>"
      ]
     },
     "metadata": {},
     "output_type": "display_data"
    }
   ],
   "source": [
    "import matplotlib.pyplot as plt\n",
    "\n",
    "plt.figure(figsize=(9,3.5))\n",
    "plt.bar(hour_counts.index, hour_counts.values)\n",
    "plt.title(\"Event count by hour of day\")\n",
    "plt.xlabel(\"Hour (0–23)\")\n",
    "plt.ylabel(\"Events\")\n",
    "plt.xticks(range(0,24,2))\n",
    "plt.tight_layout()\n",
    "plt.show()"
   ]
  },
  {
   "cell_type": "code",
   "execution_count": 16,
   "id": "20a26113-dc1f-494c-9368-955d69da398d",
   "metadata": {},
   "outputs": [
    {
     "name": "stdout",
     "output_type": "stream",
     "text": [
      "First event: 2024-11-28 20:17:33\n",
      "Last event: 2024-11-30 21:43:51\n"
     ]
    },
    {
     "data": {
      "text/plain": [
       "Mon      0\n",
       "Tue      0\n",
       "Wed      0\n",
       "Thu     57\n",
       "Fri    192\n",
       "Sat    135\n",
       "Sun      0\n",
       "Name: count, dtype: int64"
      ]
     },
     "execution_count": 16,
     "metadata": {},
     "output_type": "execute_result"
    }
   ],
   "source": [
    "print(\"First event:\", df_keep[\"when\"].min())\n",
    "print(\"Last event:\", df_keep[\"when\"].max())\n",
    "\n",
    "# Monday=0 ... Sunday=6\n",
    "dow = df_keep[\"when\"].dt.dayofweek\n",
    "dow_counts = dow.value_counts().reindex(range(7), fill_value=0).sort_index()\n",
    "\n",
    "# Friendly labels\n",
    "labels = [\"Mon\",\"Tue\",\"Wed\",\"Thu\",\"Fri\",\"Sat\",\"Sun\"]\n",
    "dow_counts.index = labels\n",
    "\n",
    "dow_counts"
   ]
  },
  {
   "cell_type": "code",
   "execution_count": 17,
   "id": "f7e8c428-4b20-4197-93a6-5c6e345dc914",
   "metadata": {},
   "outputs": [
    {
     "data": {
      "image/png": "[encoded data removed]",
      "text/plain": [
       "<Figure size 700x350 with 1 Axes>"
      ]
     },
     "metadata": {},
     "output_type": "display_data"
    }
   ],
   "source": [
    "plt.figure(figsize=(7,3.5))\n",
    "plt.bar(dow_counts.index, dow_counts.values)\n",
    "plt.title(\"Event count by weekday\")\n",
    "plt.xlabel(\"Day\")\n",
    "plt.ylabel(\"Events\")\n",
    "plt.tight_layout()\n",
    "plt.show()"
   ]
  },
  {
   "cell_type": "markdown",
   "id": "4f0c727a-1b29-4be9-b917-6ab159732756",
   "metadata": {},
   "source": [
    "### Full Data Explorations"
   ]
  },
  {
   "cell_type": "code",
   "execution_count": 18,
   "id": "cf31616b-ba28-49e9-9f77-d0b9a59c2b18",
   "metadata": {},
   "outputs": [
    {
     "name": "stdout",
     "output_type": "stream",
     "text": [
      "Coverage: 2024-11-28 20:17:33 → 2025-07-28 14:54:08\n"
     ]
    }
   ],
   "source": [
    "# Create a single timestamp we trust for analysis\n",
    "df_keep_full = df_keep_full.copy()\n",
    "df_keep_full[\"when\"] = df_keep_full[\"GPS Date Time\"].fillna(df_keep_full[\"Event Time Stamp\"])\n",
    "\n",
    "# Quick sanity (fail fast if parsing drifted)\n",
    "assert str(df_keep_full[\"when\"].dtype).startswith(\"datetime64\"), \"when is not datetime\"\n",
    "print(\"Coverage:\", df_keep_full[\"when\"].min(), \"→\", df_keep_full[\"when\"].max())"
   ]
  },
  {
   "cell_type": "code",
   "execution_count": 19,
   "id": "e943077e-8ad1-4433-adfe-1f80665c0894",
   "metadata": {},
   "outputs": [
    {
     "name": "stdout",
     "output_type": "stream",
     "text": [
      "when\n",
      "2024-11     437\n",
      "2024-12    2857\n",
      "2025-01    2307\n",
      "2025-02    1675\n",
      "2025-03    2698\n",
      "2025-04    1940\n",
      "2025-05    3268\n",
      "2025-06    3689\n",
      "2025-07    4534\n",
      "Freq: M, Name: count, dtype: int64\n"
     ]
    },
    {
     "data": {
      "image/png": "[encoded data removed]",
      "text/plain": [
       "<Figure size 900x300 with 1 Axes>"
      ]
     },
     "metadata": {},
     "output_type": "display_data"
    }
   ],
   "source": [
    "# Count events per calendar month (just to understand coverage)\n",
    "monthly = (df_keep_full[\"when\"]\n",
    "           .dt.to_period(\"M\")\n",
    "           .value_counts()\n",
    "           .sort_index())\n",
    "\n",
    "# Show counts and a quick bar chart\n",
    "print(monthly)\n",
    "\n",
    "import matplotlib.pyplot as plt\n",
    "plt.figure(figsize=(9,3))\n",
    "plt.bar(monthly.index.astype(str), monthly.values)\n",
    "plt.title(\"Event count per month\")\n",
    "plt.xlabel(\"Month\")\n",
    "plt.ylabel(\"Events\")\n",
    "plt.xticks(rotation=45)\n",
    "plt.tight_layout()\n",
    "plt.show()"
   ]
  },
  {
   "cell_type": "code",
   "execution_count": 20,
   "id": "bfa375ac-7d28-4f80-9490-fb293698242a",
   "metadata": {},
   "outputs": [
    {
     "data": {
      "image/png": "[encoded data removed]",
      "text/plain": [
       "<Figure size 900x300 with 1 Axes>"
      ]
     },
     "metadata": {},
     "output_type": "display_data"
    },
    {
     "name": "stdout",
     "output_type": "stream",
     "text": [
      "Counts per hour (for context):\n",
      "when\n",
      "0      144\n",
      "1       66\n",
      "2      103\n",
      "3       66\n",
      "4      154\n",
      "5      203\n",
      "6      910\n",
      "7      648\n",
      "8      503\n",
      "9      719\n",
      "10    1055\n",
      "11     832\n",
      "12    1105\n",
      "13    1348\n",
      "14    1617\n",
      "15    1908\n",
      "16    2530\n",
      "17    2234\n",
      "18    1735\n",
      "19    2022\n",
      "20    2025\n",
      "21     928\n",
      "22     405\n",
      "23     145\n"
     ]
    }
   ],
   "source": [
    "# Build a clean set for speed/limit comparisons\n",
    "cols = [\"when\",\"Horizontal Speed\",\"Road Speed Limit\"]\n",
    "valid = df_keep_full[cols].dropna()\n",
    "valid = valid[valid[\"Road Speed Limit\"] > 0]  # avoid weird zeros\n",
    "\n",
    "# Flag points over the posted limit\n",
    "valid = valid.copy()\n",
    "valid[\"over\"] = valid[\"Horizontal Speed\"] > valid[\"Road Speed Limit\"]\n",
    "\n",
    "# Compute over-limit RATE by hour of day\n",
    "hour_idx = valid[\"when\"].dt.hour\n",
    "rate_by_hour = (valid.groupby(hour_idx)[\"over\"]\n",
    "                .mean()\n",
    "                .reindex(range(24), fill_value=0))\n",
    "\n",
    "# Also keep counts so low-sample hours are obvious\n",
    "n_by_hour = (valid.groupby(hour_idx)[\"over\"]\n",
    "             .size()\n",
    "             .reindex(range(24), fill_value=0))\n",
    "\n",
    "# Plot the rate (0..1); underneath you can print counts\n",
    "import matplotlib.pyplot as plt\n",
    "plt.figure(figsize=(9,3))\n",
    "plt.bar(rate_by_hour.index, rate_by_hour.values)\n",
    "plt.title(\"% of points over limit by hour\")\n",
    "plt.xlabel(\"Hour (0–23)\")\n",
    "plt.ylabel(\"Share over limit\")\n",
    "plt.xticks(range(0,24,2))\n",
    "plt.tight_layout()\n",
    "plt.show()\n",
    "\n",
    "print(\"Counts per hour (for context):\")\n",
    "print(n_by_hour.to_string())"
   ]
  },
  {
   "cell_type": "code",
   "execution_count": 21,
   "id": "fb8c33ad-b1ba-4344-90d9-b397573d4dd4",
   "metadata": {},
   "outputs": [
    {
     "name": "stdout",
     "output_type": "stream",
     "text": [
      "Estimated night driving hours (22:00–04:00): 13.62 h\n",
      "Estimated total driving hours in coverage: 354.09 h\n",
      "Night share: 3.8%\n"
     ]
    }
   ],
   "source": [
    "# Prepare per-event \"run seconds\" using the cumulative field\n",
    "df_rt = df_keep_full[[\"Journey ID\",\"when\",\"Accumulated Trip Run Time\"]].dropna().copy()\n",
    "\n",
    "# Sort within journeys and compute diffs (seconds since previous event)\n",
    "df_rt = df_rt.sort_values([\"Journey ID\",\"when\"])\n",
    "df_rt[\"run_sec_delta\"] = df_rt.groupby(\"Journey ID\")[\"Accumulated Trip Run Time\"].diff()\n",
    "\n",
    "# Clean up: drop non-positive or absurdly large deltas (device hiccups)\n",
    "df_rt = df_rt[(df_rt[\"run_sec_delta\"] > 0) & (df_rt[\"run_sec_delta\"] < 3600)]\n",
    "\n",
    "# Night window: 22:00–04:00 (wraps midnight)\n",
    "hr = df_rt[\"when\"].dt.hour\n",
    "night_mask = (hr >= 22) | (hr < 4)\n",
    "\n",
    "night_hours = df_rt.loc[night_mask, \"run_sec_delta\"].sum() / 3600.0\n",
    "total_hours = df_rt[\"run_sec_delta\"].sum() / 3600.0\n",
    "print(f\"Estimated night driving hours (22:00–04:00): {night_hours:.2f} h\")\n",
    "print(f\"Estimated total driving hours in coverage: {total_hours:.2f} h\")\n",
    "print(f\"Night share: {night_hours/total_hours:.1%}\")"
   ]
  },
  {
   "cell_type": "markdown",
   "id": "32fa59be-624b-4681-9b33-375c5cbbded2",
   "metadata": {},
   "source": [
    "### Calculating harsh Acceleration & Decelration"
   ]
  },
  {
   "cell_type": "code",
   "execution_count": 22,
   "id": "e2435bb8-f14b-4d92-9708-4a5a6f224467",
   "metadata": {},
   "outputs": [
    {
     "name": "stdout",
     "output_type": "stream",
     "text": [
      "Shape with accel/decel: (384, 33)\n"
     ]
    }
   ],
   "source": [
    "CFG_acc = {**CFG}\n",
    "CFG_acc[\"keep_cols\"] = CFG[\"keep_cols\"] + [\n",
    "    \"Delta Accelerations 1\",\"Delta Accelerations 2\",\"Delta Accelerations 3\",\n",
    "    \"Delta Accelerations 4\",\"Delta Accelerations 5\",\"Delta Accelerations 6\",\n",
    "    \"Delta Accelerations 7\",\"Delta Accelerations 8\",\"Delta Accelerations 9\",\n",
    "    \"Delta Accelerations 10\",\n",
    "    \"Delta Decelerations 1\",\"Delta Decelerations 2\",\"Delta Decelerations 3\",\n",
    "    \"Delta Decelerations 4\",\"Delta Decelerations 5\",\"Delta Decelerations 6\",\n",
    "    \"Delta Decelerations 7\",\"Delta Decelerations 8\",\"Delta Decelerations 9\",\n",
    "    \"Delta Decelerations 10\"\n",
    "]\n",
    "CFG_acc[\"validate\"] = False  # skip schema temporarily\n",
    "\n",
    "df_accel = load_journey_event_with_config(\n",
    "    xlsx_path=file,\n",
    "    cfg=CFG_acc,\n",
    "    write_interim=None\n",
    ")\n",
    "print(\"Shape with accel/decel:\", df_accel.shape)"
   ]
  },
  {
   "cell_type": "code",
   "execution_count": 23,
   "id": "5b15c63f-d2c1-4658-bd99-b3bd366a7572",
   "metadata": {},
   "outputs": [
    {
     "data": {
      "text/html": [
       "<div>\n",
       "<style scoped>\n",
       "    .dataframe tbody tr th:only-of-type {\n",
       "        vertical-align: middle;\n",
       "    }\n",
       "\n",
       "    .dataframe tbody tr th {\n",
       "        vertical-align: top;\n",
       "    }\n",
       "\n",
       "    .dataframe thead th {\n",
       "        text-align: right;\n",
       "    }\n",
       "</style>\n",
       "<table border=\"1\" class=\"dataframe\">\n",
       "  <thead>\n",
       "    <tr style=\"text-align: right;\">\n",
       "      <th></th>\n",
       "      <th>Delta Accelerations 1</th>\n",
       "      <th>Delta Accelerations 2</th>\n",
       "      <th>Delta Accelerations 3</th>\n",
       "      <th>Delta Accelerations 4</th>\n",
       "      <th>Delta Accelerations 5</th>\n",
       "      <th>Delta Accelerations 6</th>\n",
       "      <th>Delta Accelerations 7</th>\n",
       "      <th>Delta Accelerations 8</th>\n",
       "      <th>Delta Accelerations 9</th>\n",
       "      <th>Delta Accelerations 10</th>\n",
       "      <th>Delta Decelerations 1</th>\n",
       "      <th>Delta Decelerations 2</th>\n",
       "      <th>Delta Decelerations 3</th>\n",
       "      <th>Delta Decelerations 4</th>\n",
       "      <th>Delta Decelerations 5</th>\n",
       "      <th>Delta Decelerations 6</th>\n",
       "      <th>Delta Decelerations 7</th>\n",
       "      <th>Delta Decelerations 8</th>\n",
       "      <th>Delta Decelerations 9</th>\n",
       "      <th>Delta Decelerations 10</th>\n",
       "    </tr>\n",
       "  </thead>\n",
       "  <tbody>\n",
       "    <tr>\n",
       "      <th>count</th>\n",
       "      <td>384.000000</td>\n",
       "      <td>384.000000</td>\n",
       "      <td>384.000000</td>\n",
       "      <td>384.000000</td>\n",
       "      <td>384.000000</td>\n",
       "      <td>384.000000</td>\n",
       "      <td>384.000000</td>\n",
       "      <td>384.000000</td>\n",
       "      <td>384.000000</td>\n",
       "      <td>384.0</td>\n",
       "      <td>384.000000</td>\n",
       "      <td>384.000000</td>\n",
       "      <td>384.000000</td>\n",
       "      <td>384.000000</td>\n",
       "      <td>384.000000</td>\n",
       "      <td>384.000000</td>\n",
       "      <td>384.000000</td>\n",
       "      <td>384.0</td>\n",
       "      <td>384.0</td>\n",
       "      <td>384.0</td>\n",
       "    </tr>\n",
       "    <tr>\n",
       "      <th>mean</th>\n",
       "      <td>2.640625</td>\n",
       "      <td>2.221354</td>\n",
       "      <td>1.005208</td>\n",
       "      <td>0.468750</td>\n",
       "      <td>0.276042</td>\n",
       "      <td>0.145833</td>\n",
       "      <td>0.052083</td>\n",
       "      <td>0.020833</td>\n",
       "      <td>0.002604</td>\n",
       "      <td>0.0</td>\n",
       "      <td>2.346354</td>\n",
       "      <td>0.802083</td>\n",
       "      <td>0.523438</td>\n",
       "      <td>0.375000</td>\n",
       "      <td>0.364583</td>\n",
       "      <td>0.174479</td>\n",
       "      <td>0.007812</td>\n",
       "      <td>0.0</td>\n",
       "      <td>0.0</td>\n",
       "      <td>0.0</td>\n",
       "    </tr>\n",
       "    <tr>\n",
       "      <th>std</th>\n",
       "      <td>7.797437</td>\n",
       "      <td>5.315180</td>\n",
       "      <td>2.334881</td>\n",
       "      <td>1.153522</td>\n",
       "      <td>0.805885</td>\n",
       "      <td>0.540364</td>\n",
       "      <td>0.284308</td>\n",
       "      <td>0.160233</td>\n",
       "      <td>0.051031</td>\n",
       "      <td>0.0</td>\n",
       "      <td>7.287268</td>\n",
       "      <td>1.748523</td>\n",
       "      <td>1.149173</td>\n",
       "      <td>0.858075</td>\n",
       "      <td>1.015491</td>\n",
       "      <td>0.615954</td>\n",
       "      <td>0.088157</td>\n",
       "      <td>0.0</td>\n",
       "      <td>0.0</td>\n",
       "      <td>0.0</td>\n",
       "    </tr>\n",
       "    <tr>\n",
       "      <th>min</th>\n",
       "      <td>0.000000</td>\n",
       "      <td>0.000000</td>\n",
       "      <td>0.000000</td>\n",
       "      <td>0.000000</td>\n",
       "      <td>0.000000</td>\n",
       "      <td>0.000000</td>\n",
       "      <td>0.000000</td>\n",
       "      <td>0.000000</td>\n",
       "      <td>0.000000</td>\n",
       "      <td>0.0</td>\n",
       "      <td>0.000000</td>\n",
       "      <td>0.000000</td>\n",
       "      <td>0.000000</td>\n",
       "      <td>0.000000</td>\n",
       "      <td>0.000000</td>\n",
       "      <td>0.000000</td>\n",
       "      <td>0.000000</td>\n",
       "      <td>0.0</td>\n",
       "      <td>0.0</td>\n",
       "      <td>0.0</td>\n",
       "    </tr>\n",
       "    <tr>\n",
       "      <th>25%</th>\n",
       "      <td>0.000000</td>\n",
       "      <td>0.000000</td>\n",
       "      <td>0.000000</td>\n",
       "      <td>0.000000</td>\n",
       "      <td>0.000000</td>\n",
       "      <td>0.000000</td>\n",
       "      <td>0.000000</td>\n",
       "      <td>0.000000</td>\n",
       "      <td>0.000000</td>\n",
       "      <td>0.0</td>\n",
       "      <td>0.000000</td>\n",
       "      <td>0.000000</td>\n",
       "      <td>0.000000</td>\n",
       "      <td>0.000000</td>\n",
       "      <td>0.000000</td>\n",
       "      <td>0.000000</td>\n",
       "      <td>0.000000</td>\n",
       "      <td>0.0</td>\n",
       "      <td>0.0</td>\n",
       "      <td>0.0</td>\n",
       "    </tr>\n",
       "    <tr>\n",
       "      <th>50%</th>\n",
       "      <td>0.000000</td>\n",
       "      <td>0.000000</td>\n",
       "      <td>0.000000</td>\n",
       "      <td>0.000000</td>\n",
       "      <td>0.000000</td>\n",
       "      <td>0.000000</td>\n",
       "      <td>0.000000</td>\n",
       "      <td>0.000000</td>\n",
       "      <td>0.000000</td>\n",
       "      <td>0.0</td>\n",
       "      <td>0.000000</td>\n",
       "      <td>0.000000</td>\n",
       "      <td>0.000000</td>\n",
       "      <td>0.000000</td>\n",
       "      <td>0.000000</td>\n",
       "      <td>0.000000</td>\n",
       "      <td>0.000000</td>\n",
       "      <td>0.0</td>\n",
       "      <td>0.0</td>\n",
       "      <td>0.0</td>\n",
       "    </tr>\n",
       "    <tr>\n",
       "      <th>75%</th>\n",
       "      <td>3.000000</td>\n",
       "      <td>2.000000</td>\n",
       "      <td>1.000000</td>\n",
       "      <td>0.000000</td>\n",
       "      <td>0.000000</td>\n",
       "      <td>0.000000</td>\n",
       "      <td>0.000000</td>\n",
       "      <td>0.000000</td>\n",
       "      <td>0.000000</td>\n",
       "      <td>0.0</td>\n",
       "      <td>2.000000</td>\n",
       "      <td>1.000000</td>\n",
       "      <td>1.000000</td>\n",
       "      <td>0.000000</td>\n",
       "      <td>0.000000</td>\n",
       "      <td>0.000000</td>\n",
       "      <td>0.000000</td>\n",
       "      <td>0.0</td>\n",
       "      <td>0.0</td>\n",
       "      <td>0.0</td>\n",
       "    </tr>\n",
       "    <tr>\n",
       "      <th>max</th>\n",
       "      <td>60.000000</td>\n",
       "      <td>49.000000</td>\n",
       "      <td>18.000000</td>\n",
       "      <td>8.000000</td>\n",
       "      <td>6.000000</td>\n",
       "      <td>5.000000</td>\n",
       "      <td>3.000000</td>\n",
       "      <td>2.000000</td>\n",
       "      <td>1.000000</td>\n",
       "      <td>0.0</td>\n",
       "      <td>60.000000</td>\n",
       "      <td>13.000000</td>\n",
       "      <td>10.000000</td>\n",
       "      <td>6.000000</td>\n",
       "      <td>7.000000</td>\n",
       "      <td>4.000000</td>\n",
       "      <td>1.000000</td>\n",
       "      <td>0.0</td>\n",
       "      <td>0.0</td>\n",
       "      <td>0.0</td>\n",
       "    </tr>\n",
       "  </tbody>\n",
       "</table>\n",
       "</div>"
      ],
      "text/plain": [
       "       Delta Accelerations 1  Delta Accelerations 2  Delta Accelerations 3  \\\n",
       "count             384.000000             384.000000             384.000000   \n",
       "mean                2.640625               2.221354               1.005208   \n",
       "std                 7.797437               5.315180               2.334881   \n",
       "min                 0.000000               0.000000               0.000000   \n",
       "25%                 0.000000               0.000000               0.000000   \n",
       "50%                 0.000000               0.000000               0.000000   \n",
       "75%                 3.000000               2.000000               1.000000   \n",
       "max                60.000000              49.000000              18.000000   \n",
       "\n",
       "       Delta Accelerations 4  Delta Accelerations 5  Delta Accelerations 6  \\\n",
       "count             384.000000             384.000000             384.000000   \n",
       "mean                0.468750               0.276042               0.145833   \n",
       "std                 1.153522               0.805885               0.540364   \n",
       "min                 0.000000               0.000000               0.000000   \n",
       "25%                 0.000000               0.000000               0.000000   \n",
       "50%                 0.000000               0.000000               0.000000   \n",
       "75%                 0.000000               0.000000               0.000000   \n",
       "max                 8.000000               6.000000               5.000000   \n",
       "\n",
       "       Delta Accelerations 7  Delta Accelerations 8  Delta Accelerations 9  \\\n",
       "count             384.000000             384.000000             384.000000   \n",
       "mean                0.052083               0.020833               0.002604   \n",
       "std                 0.284308               0.160233               0.051031   \n",
       "min                 0.000000               0.000000               0.000000   \n",
       "25%                 0.000000               0.000000               0.000000   \n",
       "50%                 0.000000               0.000000               0.000000   \n",
       "75%                 0.000000               0.000000               0.000000   \n",
       "max                 3.000000               2.000000               1.000000   \n",
       "\n",
       "       Delta Accelerations 10  Delta Decelerations 1  Delta Decelerations 2  \\\n",
       "count                   384.0             384.000000             384.000000   \n",
       "mean                      0.0               2.346354               0.802083   \n",
       "std                       0.0               7.287268               1.748523   \n",
       "min                       0.0               0.000000               0.000000   \n",
       "25%                       0.0               0.000000               0.000000   \n",
       "50%                       0.0               0.000000               0.000000   \n",
       "75%                       0.0               2.000000               1.000000   \n",
       "max                       0.0              60.000000              13.000000   \n",
       "\n",
       "       Delta Decelerations 3  Delta Decelerations 4  Delta Decelerations 5  \\\n",
       "count             384.000000             384.000000             384.000000   \n",
       "mean                0.523438               0.375000               0.364583   \n",
       "std                 1.149173               0.858075               1.015491   \n",
       "min                 0.000000               0.000000               0.000000   \n",
       "25%                 0.000000               0.000000               0.000000   \n",
       "50%                 0.000000               0.000000               0.000000   \n",
       "75%                 1.000000               0.000000               0.000000   \n",
       "max                10.000000               6.000000               7.000000   \n",
       "\n",
       "       Delta Decelerations 6  Delta Decelerations 7  Delta Decelerations 8  \\\n",
       "count             384.000000             384.000000                  384.0   \n",
       "mean                0.174479               0.007812                    0.0   \n",
       "std                 0.615954               0.088157                    0.0   \n",
       "min                 0.000000               0.000000                    0.0   \n",
       "25%                 0.000000               0.000000                    0.0   \n",
       "50%                 0.000000               0.000000                    0.0   \n",
       "75%                 0.000000               0.000000                    0.0   \n",
       "max                 4.000000               1.000000                    0.0   \n",
       "\n",
       "       Delta Decelerations 9  Delta Decelerations 10  \n",
       "count                  384.0                   384.0  \n",
       "mean                     0.0                     0.0  \n",
       "std                      0.0                     0.0  \n",
       "min                      0.0                     0.0  \n",
       "25%                      0.0                     0.0  \n",
       "50%                      0.0                     0.0  \n",
       "75%                      0.0                     0.0  \n",
       "max                      0.0                     0.0  "
      ]
     },
     "execution_count": 23,
     "metadata": {},
     "output_type": "execute_result"
    }
   ],
   "source": [
    "accel_cols = [c for c in df_accel.columns if \"Delta Accelerations\" in c]\n",
    "decel_cols = [c for c in df_accel.columns if \"Delta Decelerations\" in c]\n",
    "\n",
    "df_accel[accel_cols + decel_cols].describe()"
   ]
  },
  {
   "cell_type": "code",
   "execution_count": 24,
   "id": "fffe6020-d409-4e66-9a1c-37d9275f526a",
   "metadata": {},
   "outputs": [
    {
     "data": {
      "image/png": "[encoded data removed]",
      "text/plain": [
       "<Figure size 1000x400 with 1 Axes>"
      ]
     },
     "metadata": {},
     "output_type": "display_data"
    }
   ],
   "source": [
    "import matplotlib.pyplot as plt\n",
    "\n",
    "df_accel[accel_cols].sum().plot(kind=\"bar\", figsize=(10,4), title=\"Total Accelerations by Bin\")\n",
    "plt.show()"
   ]
  },
  {
   "cell_type": "code",
   "execution_count": 29,
   "id": "f5ac8667-1cec-4fbb-a2a7-5671bffaa07b",
   "metadata": {},
   "outputs": [
    {
     "name": "stdout",
     "output_type": "stream",
     "text": [
      "10 decel cols: ['Delta Decelerations 1', 'Delta Decelerations 2', 'Delta Decelerations 3', 'Delta Decelerations 4', 'Delta Decelerations 5', 'Delta Decelerations 6', 'Delta Decelerations 7', 'Delta Decelerations 8', 'Delta Decelerations 9', 'Delta Decelerations 10']\n"
     ]
    }
   ],
   "source": [
    "CFG_cols = {**CFG_FULL, \"nrows\": 0, \"validate\": False}\n",
    "CFG_cols.pop(\"keep_cols\", None)   # critical: see all columns\n",
    "df_cols = load_journey_event_with_config(xlsx_path=file_full, cfg=CFG_cols, write_interim=None)\n",
    "\n",
    "decel_cols = [c for c in df_cols.columns if \"Delta Decelerations\" in c]\n",
    "print(len(decel_cols), \"decel cols:\", decel_cols)"
   ]
  },
  {
   "cell_type": "code",
   "execution_count": 30,
   "id": "4f98d276-b202-420e-bb4f-97a2061e4943",
   "metadata": {},
   "outputs": [
    {
     "name": "stdout",
     "output_type": "stream",
     "text": [
      "shape: (23405, 23)\n"
     ]
    }
   ],
   "source": [
    "CFG_brake = {**CFG_FULL, \"validate\": False}\n",
    "CFG_brake[\"keep_cols\"] = CFG_FULL[\"keep_cols\"] + decel_cols\n",
    "\n",
    "df_brake = load_journey_event_with_config(xlsx_path=file_full, cfg=CFG_brake, write_interim=None)\n",
    "print(\"shape:\", df_brake.shape)"
   ]
  },
  {
   "cell_type": "code",
   "execution_count": 31,
   "id": "91663cb6-6f13-4fc9-9dfe-d969eed4a0f8",
   "metadata": {},
   "outputs": [],
   "source": [
    "df_decel = df_brake[[\"Journey ID\"] + decel_cols].copy()"
   ]
  },
  {
   "cell_type": "code",
   "execution_count": 32,
   "id": "7144d779-3de7-43c2-ab44-6e8dc4f410cd",
   "metadata": {},
   "outputs": [
    {
     "name": "stdout",
     "output_type": "stream",
     "text": [
      "Harsh braking share (bins ≥7): 0.40%\n"
     ]
    },
    {
     "data": {
      "image/png": "[encoded data removed]",
      "text/plain": [
       "<Figure size 900x300 with 1 Axes>"
      ]
     },
     "metadata": {},
     "output_type": "display_data"
    }
   ],
   "source": [
    "import pandas as pd, matplotlib.pyplot as plt\n",
    "\n",
    "totals = df_brake[decel_cols].sum()\n",
    "share = (totals / totals.sum()).sort_index()\n",
    "\n",
    "harsh_bins = [c for c in decel_cols if c.split()[-1].isdigit() and int(c.split()[-1]) >= 7]\n",
    "harsh_share = df_brake[harsh_bins].sum().sum() / totals.sum()\n",
    "print(f\"Harsh braking share (bins ≥7): {harsh_share:.2%}\")\n",
    "\n",
    "plt.figure(figsize=(9,3))\n",
    "share.plot(kind=\"bar\")\n",
    "plt.title(\"Deceleration intensity (share of events by bin)\")\n",
    "plt.ylabel(\"Share of events\")\n",
    "plt.xlabel(\"Bin\")\n",
    "plt.tight_layout()\n",
    "plt.show()"
   ]
  },
  {
   "cell_type": "code",
   "execution_count": 33,
   "id": "81bd9b05-5abb-4524-b857-3ee59ac74339",
   "metadata": {},
   "outputs": [
    {
     "name": "stdout",
     "output_type": "stream",
     "text": [
      "Manual harsh %: 0.4035990669085793\n"
     ]
    },
    {
     "data": {
      "image/png": "[encoded data removed]",
      "text/plain": [
       "<Figure size 800x300 with 1 Axes>"
      ]
     },
     "metadata": {},
     "output_type": "display_data"
    }
   ],
   "source": [
    "# A) Manual math\n",
    "total = df_decel[decel_cols].to_numpy().sum()\n",
    "harsh = df_decel[[f\"Delta Decelerations {i}\" for i in range(7,11)]].to_numpy().sum()\n",
    "print(\"Manual harsh %:\", 100 * harsh / total)\n",
    "\n",
    "# B) One journey visual\n",
    "jid = df_decel[\"Journey ID\"].value_counts().index[0]\n",
    "df_decel[df_decel[\"Journey ID\"] == jid][decel_cols].sum().plot(kind=\"bar\", figsize=(8,3),\n",
    "                                                               title=f\"Decel bins for journey {jid}\")\n",
    "plt.tight_layout(); plt.show()"
   ]
  },
  {
   "cell_type": "markdown",
   "id": "5f50a5fd-fee8-488a-8ee4-f908de3ae579",
   "metadata": {},
   "source": [
    "### Compliance = speeding"
   ]
  },
  {
   "cell_type": "code",
   "execution_count": 34,
   "id": "d3dce36a-d939-4565-8465-1c45f37f107a",
   "metadata": {},
   "outputs": [
    {
     "data": {
      "image/png": "[encoded data removed]",
      "text/plain": [
       "<Figure size 900x300 with 1 Axes>"
      ]
     },
     "metadata": {},
     "output_type": "display_data"
    },
    {
     "name": "stdout",
     "output_type": "stream",
     "text": [
      "Counts per hour:\n",
      " when\n",
      "0      144\n",
      "1       66\n",
      "2      103\n",
      "3       66\n",
      "4      154\n",
      "5      203\n",
      "6      910\n",
      "7      648\n",
      "8      503\n",
      "9      719\n",
      "10    1055\n",
      "11     832\n",
      "12    1105\n",
      "13    1348\n",
      "14    1617\n",
      "15    1908\n",
      "16    2530\n",
      "17    2234\n",
      "18    1735\n",
      "19    2022\n",
      "20    2025\n",
      "21     928\n",
      "22     405\n",
      "23     145\n"
     ]
    }
   ],
   "source": [
    "# 1) ensure we’re on curated full set\n",
    "df = df_keep_full.copy()\n",
    "df[\"when\"] = df[\"GPS Date Time\"].fillna(df[\"Event Time Stamp\"])\n",
    "\n",
    "# 2) clean comparison rows\n",
    "need = [\"when\",\"Horizontal Speed\",\"Road Speed Limit\"]\n",
    "valid = df[need].dropna()\n",
    "valid = valid[valid[\"Road Speed Limit\"] > 0]\n",
    "\n",
    "# 3) flag and aggregate\n",
    "valid[\"over\"] = valid[\"Horizontal Speed\"] > valid[\"Road Speed Limit\"]\n",
    "rate_by_hour = (valid.groupby(valid[\"when\"].dt.hour)[\"over\"]\n",
    "                .mean()\n",
    "                .reindex(range(24), fill_value=0))\n",
    "n_by_hour = (valid.groupby(valid[\"when\"].dt.hour)[\"over\"]\n",
    "             .size()\n",
    "             .reindex(range(24), fill_value=0))\n",
    "\n",
    "# 4) plot\n",
    "import matplotlib.pyplot as plt\n",
    "plt.figure(figsize=(9,3))\n",
    "plt.bar(rate_by_hour.index, rate_by_hour.values)\n",
    "plt.title(\"% over limit by hour (full data)\")\n",
    "plt.xlabel(\"Hour\"); plt.ylabel(\"Share over limit\")\n",
    "plt.xticks(range(0,24,2)); plt.tight_layout(); plt.show()\n",
    "\n",
    "print(\"Counts per hour:\\n\", n_by_hour.to_string())"
   ]
  },
  {
   "cell_type": "code",
   "execution_count": 35,
   "id": "54b86e67-1e09-41af-bbe3-b664f9a652cd",
   "metadata": {},
   "outputs": [
    {
     "data": {
      "text/plain": [
       "12"
      ]
     },
     "execution_count": 35,
     "metadata": {},
     "output_type": "execute_result"
    }
   ],
   "source": [
    "df_keep[\"Journey ID\"].nunique()"
   ]
  },
  {
   "cell_type": "code",
   "execution_count": 36,
   "id": "ed2b7253-7489-46aa-8b9e-1ea3dff59661",
   "metadata": {},
   "outputs": [
    {
     "data": {
      "text/plain": [
       "count    12.000000\n",
       "mean     32.000000\n",
       "std      31.714637\n",
       "min       2.000000\n",
       "25%       9.750000\n",
       "50%      16.000000\n",
       "75%      45.500000\n",
       "max      92.000000\n",
       "dtype: float64"
      ]
     },
     "execution_count": 36,
     "metadata": {},
     "output_type": "execute_result"
    }
   ],
   "source": [
    "df_keep.groupby(\"Journey ID\").size().describe()"
   ]
  },
  {
   "cell_type": "code",
   "execution_count": 37,
   "id": "18e53653-1504-4f08-951a-1f7a5ff9675b",
   "metadata": {},
   "outputs": [
    {
     "data": {
      "text/plain": [
       "Journey ID\n",
       "230797620241128203458    37\n",
       "230797620241128211259    20\n",
       "230797620241129093202    92\n",
       "230797620241129122442    11\n",
       "230797620241129182314    88\n",
       "230797620241130001134    12\n",
       "230797620241130002412    10\n",
       "230797620241130003551     5\n",
       "230797620241130004923     9\n",
       "230797620241130165320    42\n",
       "230797620241130194513    56\n",
       "230797620241130214251     2\n",
       "dtype: int64"
      ]
     },
     "execution_count": 37,
     "metadata": {},
     "output_type": "execute_result"
    }
   ],
   "source": [
    "df_keep.groupby(\"Journey ID\").size()"
   ]
  },
  {
   "cell_type": "code",
   "execution_count": 38,
   "id": "08fcf3f0-ce7e-4f0a-8d40-9049afaf7be5",
   "metadata": {},
   "outputs": [
    {
     "data": {
      "text/plain": [
       "12"
      ]
     },
     "execution_count": 38,
     "metadata": {},
     "output_type": "execute_result"
    }
   ],
   "source": [
    "df_keep[\"Journey ID\"].nunique()"
   ]
  },
  {
   "cell_type": "code",
   "execution_count": 39,
   "id": "23cc7c7d-cbd8-462e-81db-f221a79da121",
   "metadata": {},
   "outputs": [
    {
     "data": {
      "text/plain": [
       "(1345, 23405)"
      ]
     },
     "execution_count": 39,
     "metadata": {},
     "output_type": "execute_result"
    }
   ],
   "source": [
    "df = df_keep_full  # from Journey Event\n",
    "df[\"Journey ID\"].nunique(), len(df)"
   ]
  },
  {
   "cell_type": "code",
   "execution_count": null,
   "id": "44f53f77-1f1c-4ad6-a524-b1c256321a1f",
   "metadata": {},
   "outputs": [],
   "source": []
  },
  {
   "cell_type": "code",
   "execution_count": null,
   "id": "572347a7-cb84-456e-8752-435ed59553e6",
   "metadata": {},
   "outputs": [],
   "source": []
  },
  {
   "cell_type": "markdown",
   "id": "c71ea45d-a1c3-4e7c-99b3-cc61c47cdcb8",
   "metadata": {},
   "source": [
    "# Dev helpers (Archive)"
   ]
  },
  {
   "cell_type": "code",
   "execution_count": null,
   "id": "4aded057-f29e-41ca-954f-7069f659b653",
   "metadata": {},
   "outputs": [],
   "source": []
  },
  {
   "cell_type": "code",
   "execution_count": null,
   "id": "217bbfb6-5262-4a81-b57f-0872d6d97a2f",
   "metadata": {},
   "outputs": [],
   "source": [
    "from src.ingest import load_journey_event_with_config\n",
    "\n",
    "CFG = {\n",
    "    \"sheet_name\": \"Journey_Event_Sample\",\n",
    "    \"header\": \"auto\",\n",
    "    \"usecols\": \"B:BC\",\n",
    "    \"nrows\": 400,  # sample for speed; remove later for full load\n",
    "    \"date_cols\": [\"RTC Date Time\",\"GPS Date Time\",\"Event Time Stamp\"],\n",
    "    \"dayfirst\": True,\n",
    "    \"keep_cols\": [\n",
    "        \"Policy Number\",\"Voucher ID\",\"Journey ID\",\n",
    "        \"Event Time Stamp\",\"GPS Date Time\",\n",
    "        \"Latitude\",\"Longitude\",\n",
    "        \"Event Type\",\"Horizontal Speed\",\"Road Speed Limit\",\n",
    "        \"Accumulated Trip Distance\",\"Accumulated Trip Idle Time\",\"Accumulated Trip Run Time\",\n",
    "    ],\n",
    "    \"validate\": True,  # run P‑T‑R on the keep set\n",
    "}\n",
    "\n",
    "file = \"data/raw/driving_sample.xlsx\"\n",
    "\n",
    "df_keep = load_journey_event_with_config(\n",
    "    xlsx_path=file,\n",
    "    cfg=CFG,\n",
    "    write_interim=Path(\"data/interim/journey_event_sample_keep.parquet\")  # or None if you don’t want to write\n",
    ")\n",
    "\n",
    "df_keep.head(2), df_keep.shape"
   ]
  },
  {
   "cell_type": "code",
   "execution_count": null,
   "id": "6ed59d42-83e3-4ab4-a6f3-28448711b3c2",
   "metadata": {},
   "outputs": [],
   "source": [
    "import importlib, types\n",
    "\n",
    "import src.ingest as ingest\n",
    "importlib.reload(ingest)     # picks up latest file contents\n",
    "\n",
    "print(\"Attributes on ingest:\", [a for a in dir(ingest) if not a.startswith(\"_\")])"
   ]
  },
  {
   "cell_type": "code",
   "execution_count": null,
   "id": "b59e7287-e92a-47bc-a3bb-c978c29d9430",
   "metadata": {},
   "outputs": [],
   "source": [
    "from src.ingest import load_journey_event"
   ]
  },
  {
   "cell_type": "code",
   "execution_count": null,
   "id": "a7c0ecb3-85cf-4e91-8029-762adab38604",
   "metadata": {},
   "outputs": [],
   "source": [
    "# testing function\n",
    "# import the loader\n",
    "from src.ingest import load_journey_event\n",
    "\n",
    "file = \"data/raw/driving_sample.xlsx\"\n",
    "sheet = \"Journey_Event_Sample\"\n",
    "\n",
    "df = load_journey_event(\n",
    "    xlsx_path=file,\n",
    "    sheet_name=sheet,\n",
    "    header=\"auto\",                      # or 0 if you want to force it\n",
    "    usecols=\"B:BC\",                     # skip blank col A\n",
    "    nrows=400,                          # sample size for speed\n",
    "    date_cols=[\"RTC Date Time\",\"GPS Date Time\",\"Event Time Stamp\"],\n",
    "    dayfirst=True\n",
    ")\n",
    "\n",
    "df.head(2), df.shape"
   ]
  },
  {
   "cell_type": "code",
   "execution_count": null,
   "id": "fe1beef2-2790-451c-a282-41ffc6a8a5ef",
   "metadata": {},
   "outputs": [],
   "source": [
    "#Data path & sheet list (Code)\n",
    "\n",
    "from pathlib import Path\n",
    "DATA = Path(\"data/raw\")\n",
    "file = DATA / \"driving_sample.xlsx\"  # <-- change to actual filename\n",
    "print(\"File exists:\", file.exists())\n",
    "\n",
    "xls = pd.ExcelFile(file)\n",
    "xls.sheet_names  # check the exact messy sheet name here"
   ]
  },
  {
   "cell_type": "code",
   "execution_count": null,
   "id": "dca05401-f55e-4856-bd28-39797f9875d1",
   "metadata": {},
   "outputs": [],
   "source": [
    "print(\"shape:\", df.shape)\n",
    "print(\"first 12 columns:\", df.columns[:12].tolist())\n",
    "\n",
    "# QUICK: are the three date columns even present?\n",
    "date_cols = [\"RTC Date Time\", \"GPS Date Time\", \"Event Time Stamp\"]\n",
    "present = [c for c in date_cols if c in df.columns]\n",
    "missing = [c for c in date_cols if c not in df.columns]\n",
    "print(\"date cols present:\", present, \"| missing:\", missing)\n",
    "\n",
    "# show dtypes of a few key columns\n",
    "cols_probe = present + [c for c in [\"Event Type\",\"Latitude\",\"Longitude\",\"Horizontal Speed\",\"Road Speed Limit\"] if c in df.columns]\n",
    "df[cols_probe].dtypes"
   ]
  },
  {
   "cell_type": "code",
   "execution_count": null,
   "id": "da4abef3-2369-4271-a80e-406f184047da",
   "metadata": {},
   "outputs": [],
   "source": [
    "# column auditing\n",
    "\n",
    "rows = []\n",
    "for col in df.columns:\n",
    "    s = df[col]\n",
    "    rows.append({\n",
    "        \"column\": col,\n",
    "        \"dtype\": str(s.dtype),\n",
    "        \"null_pct\": round(100 * (1 - s.notna().mean()), 2),\n",
    "        \"n_unique\": int(s.nunique(dropna=True)),\n",
    "    })\n",
    "audit = pd.DataFrame(rows).sort_values([\"dtype\",\"column\"]).reset_index(drop=True)\n",
    "audit.head(15)"
   ]
  },
  {
   "cell_type": "code",
   "execution_count": null,
   "id": "9d7c1a9d-ffa1-4dbc-afd0-a6543f08dd56",
   "metadata": {},
   "outputs": [],
   "source": [
    "probe = [\"Event Type\",\"Delta Trip Distance\",\"Direction\",\"Altitude\",\"GPS Accuracy\"]\n",
    "[c for c in probe if c in df.columns], df[probe].head(2)"
   ]
  },
  {
   "cell_type": "code",
   "execution_count": null,
   "id": "ae7297c1-b22c-445f-9f61-34f7a14b1e5e",
   "metadata": {},
   "outputs": [],
   "source": []
  }
 ],
 "metadata": {
  "kernelspec": {
   "display_name": "Python 3 (ipykernel)",
   "language": "python",
   "name": "python3"
  },
  "language_info": {
   "codemirror_mode": {
    "name": "ipython",
    "version": 3
   },
   "file_extension": ".py",
   "mimetype": "text/x-python",
   "name": "python",
   "nbconvert_exporter": "python",
   "pygments_lexer": "ipython3",
   "version": "3.9.6"
  }
 },
 "nbformat": 4,
 "nbformat_minor": 5
}
