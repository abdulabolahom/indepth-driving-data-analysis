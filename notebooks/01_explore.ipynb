{
 "cells": [
  {
   "cell_type": "markdown",
   "id": "97b659c9",
   "metadata": {},
   "source": [
    "## testing/debugging first src funnction created"
   ]
  },
  {
   "cell_type": "markdown",
   "id": "6e2df8d7",
   "metadata": {},
   "source": [
    "## "
   ]
  },
  {
   "cell_type": "code",
   "execution_count": 23,
   "id": "d4acee61",
   "metadata": {},
   "outputs": [
    {
     "name": "stdout",
     "output_type": "stream",
     "text": [
      "CWD: /Users/abdulrahmanaboluhom/Documents/GitHub/Projects/indepth-driving-data-analysis\n",
      "src exists? True\n",
      "__init__.py exists? True\n",
      "ingest.py exists? True\n"
     ]
    }
   ],
   "source": [
    "import os, pathlib, sys\n",
    "print(\"CWD:\", os.getcwd())\n",
    "print(\"src exists?\", pathlib.Path(\"src\").exists())\n",
    "print(\"__init__.py exists?\", pathlib.Path(\"src/__init__.py\").exists())\n",
    "print(\"ingest.py exists?\", pathlib.Path(\"src/ingest.py\").exists())"
   ]
  },
  {
   "cell_type": "code",
   "execution_count": 24,
   "id": "ee4b98ee",
   "metadata": {},
   "outputs": [
    {
     "name": "stdout",
     "output_type": "stream",
     "text": [
      "Attributes on ingest: ['Iterable', 'List', 'Optional', 'Path', 'Union', 'guess_header_row', 'load_journey_event', 'pd']\n"
     ]
    }
   ],
   "source": [
    "import importlib, types\n",
    "\n",
    "import src.ingest as ingest\n",
    "importlib.reload(ingest)     # picks up latest file contents\n",
    "\n",
    "print(\"Attributes on ingest:\", [a for a in dir(ingest) if not a.startswith(\"_\")])"
   ]
  },
  {
   "cell_type": "code",
   "execution_count": 25,
   "id": "115f493e",
   "metadata": {},
   "outputs": [],
   "source": [
    "from src.ingest import load_journey_event"
   ]
  },
  {
   "cell_type": "code",
   "execution_count": 26,
   "id": "244ea85b",
   "metadata": {},
   "outputs": [
    {
     "data": {
      "text/plain": [
       "(  Policy Number  Voucher ID PlateNumber  VIN  Device Serial Number  \\\n",
       " 0   P75235539-1     2307976     SL14CAU  NaN             128491027   \n",
       " 1   P75235539-1     2307976     SL14CAU  NaN             128491027   \n",
       " \n",
       "               Journey ID Journey Segment Type  Event Type ID  \\\n",
       " 0  230797620241128203458                    D              1   \n",
       " 1  230797620241128203458                    t              3   \n",
       " \n",
       "                       Event Type       RTC Date Time  ...  \\\n",
       " 0  Departure Event - ignition on 2024-11-28 20:34:58  ...   \n",
       " 1                Trip Time Event 2024-11-28 20:35:58  ...   \n",
       " \n",
       "   Delta Decelerations 1 Delta Decelerations 2  Delta Decelerations 3  \\\n",
       " 0                     0                     0                      0   \n",
       " 1                     0                     0                      0   \n",
       " \n",
       "    Delta Decelerations 4  Delta Decelerations 5  Delta Decelerations 6  \\\n",
       " 0                      0                      0                      0   \n",
       " 1                      0                      0                      0   \n",
       " \n",
       "    Delta Decelerations 7  Delta Decelerations 8  Delta Decelerations 9  \\\n",
       " 0                      0                      0                      0   \n",
       " 1                      0                      0                      0   \n",
       " \n",
       "    Delta Decelerations 10  \n",
       " 0                       0  \n",
       " 1                       0  \n",
       " \n",
       " [2 rows x 54 columns],\n",
       " (384, 54))"
      ]
     },
     "execution_count": 26,
     "metadata": {},
     "output_type": "execute_result"
    }
   ],
   "source": [
    "# testing function\n",
    "# import the loader\n",
    "from src.ingest import load_journey_event\n",
    "\n",
    "file = \"data/raw/driving_sample.xlsx\"\n",
    "sheet = \"Journey_Event_Sample\"\n",
    "\n",
    "df = load_journey_event(\n",
    "    xlsx_path=file,\n",
    "    sheet_name=sheet,\n",
    "    header=\"auto\",                      # or 0 if you want to force it\n",
    "    usecols=\"B:BC\",                     # skip blank col A\n",
    "    nrows=400,                          # sample size for speed\n",
    "    date_cols=[\"RTC Date Time\",\"GPS Date Time\",\"Event Time Stamp\"],\n",
    "    dayfirst=True\n",
    ")\n",
    "\n",
    "df.head(2), df.shape"
   ]
  },
  {
   "cell_type": "markdown",
   "id": "9113b369",
   "metadata": {},
   "source": []
  },
  {
   "cell_type": "markdown",
   "id": "448c3948",
   "metadata": {},
   "source": [
    "# 01_explore — detect header, load 400 rows, parse dates\n",
    "Goal: robustly load from the original sheet (with legend rows) and confirm key columns/types."
   ]
  },
  {
   "cell_type": "code",
   "execution_count": 1,
   "id": "38b2b3e5",
   "metadata": {},
   "outputs": [
    {
     "name": "stdout",
     "output_type": "stream",
     "text": [
      "CWD: /Users/abdulrahmanaboluhom/Documents/GitHub/Projects/indepth-driving-data-analysis\n",
      "Python: 3.9.6 | pandas: 2.3.1\n"
     ]
    }
   ],
   "source": [
    "#Environment & CWD (Code)\n",
    "import os, pathlib, sys, pandas as pd\n",
    "\n",
    "# Ensure CWD is repo root (parent of notebooks/)\n",
    "if pathlib.Path().resolve().name == \"notebooks\":\n",
    "    os.chdir(\"..\")\n",
    "print(\"CWD:\", os.getcwd())\n",
    "print(\"Python:\", sys.version.split()[0], \"| pandas:\", pd.__version__)"
   ]
  },
  {
   "cell_type": "code",
   "execution_count": 2,
   "id": "d5505968",
   "metadata": {},
   "outputs": [
    {
     "name": "stdout",
     "output_type": "stream",
     "text": [
      "File exists: True\n"
     ]
    },
    {
     "data": {
      "text/plain": [
       "['Journey_Event_Sample']"
      ]
     },
     "execution_count": 2,
     "metadata": {},
     "output_type": "execute_result"
    }
   ],
   "source": [
    "#Data path & sheet list (Code)\n",
    "\n",
    "from pathlib import Path\n",
    "DATA = Path(\"data/raw\")\n",
    "file = DATA / \"driving_sample.xlsx\"  # <-- change to actual filename\n",
    "print(\"File exists:\", file.exists())\n",
    "\n",
    "xls = pd.ExcelFile(file)\n",
    "xls.sheet_names  # check the exact messy sheet name here"
   ]
  },
  {
   "cell_type": "code",
   "execution_count": 3,
   "id": "b55f4f49",
   "metadata": {},
   "outputs": [
    {
     "name": "stdout",
     "output_type": "stream",
     "text": [
      "Guessed header row (0-based): 15 => Excel row 16\n"
     ]
    }
   ],
   "source": [
    "#Auto detect header row\n",
    "\n",
    "import numpy as np\n",
    "import pandas as pd\n",
    "\n",
    "sheet = \"Journey_Event_Sample\"   # <-- exact name from the list above\n",
    "\n",
    "def guess_header_row(xlsx_path, sheet_name, look_rows=40):\n",
    "    tmp = pd.read_excel(xlsx_path, sheet_name=sheet_name, header=None, nrows=look_rows)\n",
    "    scores = []\n",
    "    for i in range(len(tmp)):\n",
    "        row = tmp.iloc[i]\n",
    "        nonnull = row.notna().sum()\n",
    "        texty = sum(isinstance(v, str) for v in row)\n",
    "        # longer unique strings often indicate headers (vs. repeated numbers/zeros)\n",
    "        uniq = row.nunique(dropna=True)\n",
    "        scores.append((i, int(nonnull), int(texty), int(uniq)))\n",
    "    # sort by non-null, then texty, then unique count\n",
    "    scores.sort(key=lambda t: (t[1], t[2], t[3]), reverse=True)\n",
    "    return scores[0][0]  # 0-based index\n",
    "\n",
    "header_idx = guess_header_row(file, sheet)\n",
    "print(\"Guessed header row (0-based):\", header_idx, \"=> Excel row\", header_idx+1)"
   ]
  },
  {
   "cell_type": "code",
   "execution_count": 4,
   "id": "5d47712f",
   "metadata": {},
   "outputs": [
    {
     "data": {
      "text/html": [
       "<div>\n",
       "<style scoped>\n",
       "    .dataframe tbody tr th:only-of-type {\n",
       "        vertical-align: middle;\n",
       "    }\n",
       "\n",
       "    .dataframe tbody tr th {\n",
       "        vertical-align: top;\n",
       "    }\n",
       "\n",
       "    .dataframe thead th {\n",
       "        text-align: right;\n",
       "    }\n",
       "</style>\n",
       "<table border=\"1\" class=\"dataframe\">\n",
       "  <thead>\n",
       "    <tr style=\"text-align: right;\">\n",
       "      <th></th>\n",
       "      <th>0</th>\n",
       "      <th>1</th>\n",
       "      <th>2</th>\n",
       "      <th>3</th>\n",
       "      <th>4</th>\n",
       "      <th>5</th>\n",
       "      <th>6</th>\n",
       "      <th>7</th>\n",
       "      <th>8</th>\n",
       "      <th>9</th>\n",
       "      <th>...</th>\n",
       "      <th>45</th>\n",
       "      <th>46</th>\n",
       "      <th>47</th>\n",
       "      <th>48</th>\n",
       "      <th>49</th>\n",
       "      <th>50</th>\n",
       "      <th>51</th>\n",
       "      <th>52</th>\n",
       "      <th>53</th>\n",
       "      <th>54</th>\n",
       "    </tr>\n",
       "  </thead>\n",
       "  <tbody>\n",
       "    <tr>\n",
       "      <th>0</th>\n",
       "      <td>NaN</td>\n",
       "      <td>ALL DATA</td>\n",
       "      <td>NaN</td>\n",
       "      <td>NaN</td>\n",
       "      <td>NaN</td>\n",
       "      <td>NaN</td>\n",
       "      <td>NaN</td>\n",
       "      <td>NaN</td>\n",
       "      <td>NaN</td>\n",
       "      <td>NaN</td>\n",
       "      <td>...</td>\n",
       "      <td>NaN</td>\n",
       "      <td>NaN</td>\n",
       "      <td>NaN</td>\n",
       "      <td>NaN</td>\n",
       "      <td>NaN</td>\n",
       "      <td>NaN</td>\n",
       "      <td>NaN</td>\n",
       "      <td>NaN</td>\n",
       "      <td>NaN</td>\n",
       "      <td>NaN</td>\n",
       "    </tr>\n",
       "    <tr>\n",
       "      <th>1</th>\n",
       "      <td>NaN</td>\n",
       "      <td>Policy Number</td>\n",
       "      <td>Voucher ID</td>\n",
       "      <td>PlateNumber</td>\n",
       "      <td>VIN</td>\n",
       "      <td>Device Serial Number</td>\n",
       "      <td>Journey ID</td>\n",
       "      <td>Journey Segment Type</td>\n",
       "      <td>Event Type ID</td>\n",
       "      <td>Event Type</td>\n",
       "      <td>...</td>\n",
       "      <td>Delta Decelerations 1</td>\n",
       "      <td>Delta Decelerations 2</td>\n",
       "      <td>Delta Decelerations 3</td>\n",
       "      <td>Delta Decelerations 4</td>\n",
       "      <td>Delta Decelerations 5</td>\n",
       "      <td>Delta Decelerations 6</td>\n",
       "      <td>Delta Decelerations 7</td>\n",
       "      <td>Delta Decelerations 8</td>\n",
       "      <td>Delta Decelerations 9</td>\n",
       "      <td>Delta Decelerations 10</td>\n",
       "    </tr>\n",
       "    <tr>\n",
       "      <th>2</th>\n",
       "      <td>NaN</td>\n",
       "      <td>P75235539-1</td>\n",
       "      <td>2307976</td>\n",
       "      <td>SL14CAU</td>\n",
       "      <td>NaN</td>\n",
       "      <td>00128491027</td>\n",
       "      <td>230797620241128203458</td>\n",
       "      <td>D</td>\n",
       "      <td>1</td>\n",
       "      <td>Departure Event - ignition on</td>\n",
       "      <td>...</td>\n",
       "      <td>0</td>\n",
       "      <td>0</td>\n",
       "      <td>0</td>\n",
       "      <td>0</td>\n",
       "      <td>0</td>\n",
       "      <td>0</td>\n",
       "      <td>0</td>\n",
       "      <td>0</td>\n",
       "      <td>0</td>\n",
       "      <td>0</td>\n",
       "    </tr>\n",
       "    <tr>\n",
       "      <th>3</th>\n",
       "      <td>NaN</td>\n",
       "      <td>P75235539-1</td>\n",
       "      <td>2307976</td>\n",
       "      <td>SL14CAU</td>\n",
       "      <td>NaN</td>\n",
       "      <td>00128491027</td>\n",
       "      <td>230797620241128203458</td>\n",
       "      <td>t</td>\n",
       "      <td>3</td>\n",
       "      <td>Trip Time Event</td>\n",
       "      <td>...</td>\n",
       "      <td>0</td>\n",
       "      <td>0</td>\n",
       "      <td>0</td>\n",
       "      <td>0</td>\n",
       "      <td>0</td>\n",
       "      <td>0</td>\n",
       "      <td>0</td>\n",
       "      <td>0</td>\n",
       "      <td>0</td>\n",
       "      <td>0</td>\n",
       "    </tr>\n",
       "    <tr>\n",
       "      <th>4</th>\n",
       "      <td>NaN</td>\n",
       "      <td>P75235539-1</td>\n",
       "      <td>2307976</td>\n",
       "      <td>SL14CAU</td>\n",
       "      <td>NaN</td>\n",
       "      <td>00128491027</td>\n",
       "      <td>230797620241128203458</td>\n",
       "      <td>t</td>\n",
       "      <td>3</td>\n",
       "      <td>Trip Time Event</td>\n",
       "      <td>...</td>\n",
       "      <td>0</td>\n",
       "      <td>0</td>\n",
       "      <td>0</td>\n",
       "      <td>0</td>\n",
       "      <td>0</td>\n",
       "      <td>0</td>\n",
       "      <td>0</td>\n",
       "      <td>0</td>\n",
       "      <td>0</td>\n",
       "      <td>0</td>\n",
       "    </tr>\n",
       "  </tbody>\n",
       "</table>\n",
       "<p>5 rows × 55 columns</p>\n",
       "</div>"
      ],
      "text/plain": [
       "   0              1           2            3    4                     5   \\\n",
       "0 NaN       ALL DATA         NaN          NaN  NaN                   NaN   \n",
       "1 NaN  Policy Number  Voucher ID  PlateNumber  VIN  Device Serial Number   \n",
       "2 NaN    P75235539-1     2307976      SL14CAU  NaN           00128491027   \n",
       "3 NaN    P75235539-1     2307976      SL14CAU  NaN           00128491027   \n",
       "4 NaN    P75235539-1     2307976      SL14CAU  NaN           00128491027   \n",
       "\n",
       "                      6                     7              8   \\\n",
       "0                    NaN                   NaN            NaN   \n",
       "1             Journey ID  Journey Segment Type  Event Type ID   \n",
       "2  230797620241128203458                     D              1   \n",
       "3  230797620241128203458                     t              3   \n",
       "4  230797620241128203458                     t              3   \n",
       "\n",
       "                              9   ...                     45  \\\n",
       "0                            NaN  ...                    NaN   \n",
       "1                     Event Type  ...  Delta Decelerations 1   \n",
       "2  Departure Event - ignition on  ...                      0   \n",
       "3                Trip Time Event  ...                      0   \n",
       "4                Trip Time Event  ...                      0   \n",
       "\n",
       "                      46                     47                     48  \\\n",
       "0                    NaN                    NaN                    NaN   \n",
       "1  Delta Decelerations 2  Delta Decelerations 3  Delta Decelerations 4   \n",
       "2                      0                      0                      0   \n",
       "3                      0                      0                      0   \n",
       "4                      0                      0                      0   \n",
       "\n",
       "                      49                     50                     51  \\\n",
       "0                    NaN                    NaN                    NaN   \n",
       "1  Delta Decelerations 5  Delta Decelerations 6  Delta Decelerations 7   \n",
       "2                      0                      0                      0   \n",
       "3                      0                      0                      0   \n",
       "4                      0                      0                      0   \n",
       "\n",
       "                      52                     53                      54  \n",
       "0                    NaN                    NaN                     NaN  \n",
       "1  Delta Decelerations 8  Delta Decelerations 9  Delta Decelerations 10  \n",
       "2                      0                      0                       0  \n",
       "3                      0                      0                       0  \n",
       "4                      0                      0                       0  \n",
       "\n",
       "[5 rows x 55 columns]"
      ]
     },
     "execution_count": 4,
     "metadata": {},
     "output_type": "execute_result"
    }
   ],
   "source": [
    "peek = pd.read_excel(file, sheet_name=sheet, header=None, skiprows=max(0, header_idx-1), nrows=5)\n",
    "peek"
   ]
  },
  {
   "cell_type": "code",
   "execution_count": 5,
   "id": "2eccacb8",
   "metadata": {},
   "outputs": [
    {
     "data": {
      "text/html": [
       "<div>\n",
       "<style scoped>\n",
       "    .dataframe tbody tr th:only-of-type {\n",
       "        vertical-align: middle;\n",
       "    }\n",
       "\n",
       "    .dataframe tbody tr th {\n",
       "        vertical-align: top;\n",
       "    }\n",
       "\n",
       "    .dataframe thead th {\n",
       "        text-align: right;\n",
       "    }\n",
       "</style>\n",
       "<table border=\"1\" class=\"dataframe\">\n",
       "  <thead>\n",
       "    <tr style=\"text-align: right;\">\n",
       "      <th></th>\n",
       "      <th>Policy Number</th>\n",
       "      <th>Voucher ID</th>\n",
       "      <th>PlateNumber</th>\n",
       "      <th>VIN</th>\n",
       "      <th>Device Serial Number</th>\n",
       "      <th>Journey ID</th>\n",
       "      <th>Journey Segment Type</th>\n",
       "      <th>Event Type ID</th>\n",
       "      <th>Event Type</th>\n",
       "      <th>RTC Date Time</th>\n",
       "      <th>...</th>\n",
       "      <th>Delta Decelerations 1</th>\n",
       "      <th>Delta Decelerations 2</th>\n",
       "      <th>Delta Decelerations 3</th>\n",
       "      <th>Delta Decelerations 4</th>\n",
       "      <th>Delta Decelerations 5</th>\n",
       "      <th>Delta Decelerations 6</th>\n",
       "      <th>Delta Decelerations 7</th>\n",
       "      <th>Delta Decelerations 8</th>\n",
       "      <th>Delta Decelerations 9</th>\n",
       "      <th>Delta Decelerations 10</th>\n",
       "    </tr>\n",
       "  </thead>\n",
       "  <tbody>\n",
       "    <tr>\n",
       "      <th>0</th>\n",
       "      <td>P75235539-1</td>\n",
       "      <td>2307976</td>\n",
       "      <td>SL14CAU</td>\n",
       "      <td>NaN</td>\n",
       "      <td>128491027</td>\n",
       "      <td>230797620241128203458</td>\n",
       "      <td>D</td>\n",
       "      <td>1</td>\n",
       "      <td>Departure Event - ignition on</td>\n",
       "      <td>28 Nov 2024 20:34:58</td>\n",
       "      <td>...</td>\n",
       "      <td>0</td>\n",
       "      <td>0</td>\n",
       "      <td>0</td>\n",
       "      <td>0</td>\n",
       "      <td>0</td>\n",
       "      <td>0</td>\n",
       "      <td>0</td>\n",
       "      <td>0</td>\n",
       "      <td>0</td>\n",
       "      <td>0</td>\n",
       "    </tr>\n",
       "    <tr>\n",
       "      <th>1</th>\n",
       "      <td>P75235539-1</td>\n",
       "      <td>2307976</td>\n",
       "      <td>SL14CAU</td>\n",
       "      <td>NaN</td>\n",
       "      <td>128491027</td>\n",
       "      <td>230797620241128203458</td>\n",
       "      <td>t</td>\n",
       "      <td>3</td>\n",
       "      <td>Trip Time Event</td>\n",
       "      <td>28 Nov 2024 20:35:58</td>\n",
       "      <td>...</td>\n",
       "      <td>0</td>\n",
       "      <td>0</td>\n",
       "      <td>0</td>\n",
       "      <td>0</td>\n",
       "      <td>0</td>\n",
       "      <td>0</td>\n",
       "      <td>0</td>\n",
       "      <td>0</td>\n",
       "      <td>0</td>\n",
       "      <td>0</td>\n",
       "    </tr>\n",
       "  </tbody>\n",
       "</table>\n",
       "<p>2 rows × 54 columns</p>\n",
       "</div>"
      ],
      "text/plain": [
       "  Policy Number  Voucher ID PlateNumber  VIN  Device Serial Number  \\\n",
       "0   P75235539-1     2307976     SL14CAU  NaN             128491027   \n",
       "1   P75235539-1     2307976     SL14CAU  NaN             128491027   \n",
       "\n",
       "              Journey ID Journey Segment Type  Event Type ID  \\\n",
       "0  230797620241128203458                    D              1   \n",
       "1  230797620241128203458                    t              3   \n",
       "\n",
       "                      Event Type         RTC Date Time  ...  \\\n",
       "0  Departure Event - ignition on  28 Nov 2024 20:34:58  ...   \n",
       "1                Trip Time Event  28 Nov 2024 20:35:58  ...   \n",
       "\n",
       "  Delta Decelerations 1 Delta Decelerations 2  Delta Decelerations 3  \\\n",
       "0                     0                     0                      0   \n",
       "1                     0                     0                      0   \n",
       "\n",
       "   Delta Decelerations 4  Delta Decelerations 5  Delta Decelerations 6  \\\n",
       "0                      0                      0                      0   \n",
       "1                      0                      0                      0   \n",
       "\n",
       "   Delta Decelerations 7  Delta Decelerations 8  Delta Decelerations 9  \\\n",
       "0                      0                      0                      0   \n",
       "1                      0                      0                      0   \n",
       "\n",
       "   Delta Decelerations 10  \n",
       "0                       0  \n",
       "1                       0  \n",
       "\n",
       "[2 rows x 54 columns]"
      ]
     },
     "execution_count": 5,
     "metadata": {},
     "output_type": "execute_result"
    }
   ],
   "source": [
    "import pandas as pd\n",
    "\n",
    "# you already have these from earlier cells\n",
    "# file = DATA / \"driving_sample.xlsx\"\n",
    "# sheet = \"Journey_Event_Sample\"\n",
    "# header_idx = <the detected 0-based header row index>\n",
    "\n",
    "df = pd.read_excel(\n",
    "    file,\n",
    "    sheet_name=sheet,\n",
    "    header=header_idx,\n",
    "    nrows=400,        # your sample size\n",
    "    usecols=\"B:BC\"    # skip blank/legend col A; adjust end column if needed\n",
    ")\n",
    "df.head(2)"
   ]
  },
  {
   "cell_type": "code",
   "execution_count": 6,
   "id": "bbebc26e",
   "metadata": {},
   "outputs": [
    {
     "name": "stdout",
     "output_type": "stream",
     "text": [
      "shape: (384, 54)\n",
      "first 12 columns: ['Policy Number', 'Voucher ID', 'PlateNumber', 'VIN', 'Device Serial Number', 'Journey ID', 'Journey Segment Type', 'Event Type ID', 'Event Type', 'RTC Date Time', 'GPS Date Time', 'Event Time Stamp']\n",
      "date cols present: ['RTC Date Time', 'GPS Date Time', 'Event Time Stamp'] | missing: []\n"
     ]
    },
    {
     "data": {
      "text/plain": [
       "RTC Date Time        object\n",
       "GPS Date Time        object\n",
       "Event Time Stamp     object\n",
       "Event Type           object\n",
       "Latitude            float64\n",
       "Longitude           float64\n",
       "Horizontal Speed      int64\n",
       "Road Speed Limit      int64\n",
       "dtype: object"
      ]
     },
     "execution_count": 6,
     "metadata": {},
     "output_type": "execute_result"
    }
   ],
   "source": [
    "print(\"shape:\", df.shape)\n",
    "print(\"first 12 columns:\", df.columns[:12].tolist())\n",
    "\n",
    "# QUICK: are the three date columns even present?\n",
    "date_cols = [\"RTC Date Time\", \"GPS Date Time\", \"Event Time Stamp\"]\n",
    "present = [c for c in date_cols if c in df.columns]\n",
    "missing = [c for c in date_cols if c not in df.columns]\n",
    "print(\"date cols present:\", present, \"| missing:\", missing)\n",
    "\n",
    "# show dtypes of a few key columns\n",
    "cols_probe = present + [c for c in [\"Event Type\",\"Latitude\",\"Longitude\",\"Horizontal Speed\",\"Road Speed Limit\"] if c in df.columns]\n",
    "df[cols_probe].dtypes"
   ]
  },
  {
   "cell_type": "code",
   "execution_count": 7,
   "id": "5dae2982",
   "metadata": {},
   "outputs": [],
   "source": [
    "for col in present:\n",
    "    df[col] = pd.to_datetime(df[col], dayfirst=True, errors=\"coerce\")"
   ]
  },
  {
   "cell_type": "code",
   "execution_count": 8,
   "id": "3a63f08f",
   "metadata": {},
   "outputs": [
    {
     "name": "stdout",
     "output_type": "stream",
     "text": [
      "RTC Date Time: dtype_ok=True, nulls=0 of 384\n",
      "GPS Date Time: dtype_ok=True, nulls=0 of 384\n",
      "Event Time Stamp: dtype_ok=True, nulls=0 of 384\n"
     ]
    }
   ],
   "source": [
    "for col in present:\n",
    "    dtype_ok = str(df[col].dtype).startswith(\"datetime64\")\n",
    "    nulls = int(df[col].isna().sum())\n",
    "    print(f\"{col}: dtype_ok={dtype_ok}, nulls={nulls} of {len(df)}\")"
   ]
  },
  {
   "cell_type": "code",
   "execution_count": 9,
   "id": "b912d238",
   "metadata": {},
   "outputs": [],
   "source": [
    "for col in present:\n",
    "    bad = df.loc[df[col].isna(), col]\n",
    "    if len(bad) > 0:\n",
    "        # show a few original strings (need the original column to compare—if you need this later,\n",
    "        # we can clone the original text first before to_datetime; for now we just report counts)\n",
    "        print(f\"{col}: {len(bad)} nulls after parsing (inspect upstream if unexpected)\")"
   ]
  },
  {
   "cell_type": "code",
   "execution_count": 10,
   "id": "c0d39ee9",
   "metadata": {},
   "outputs": [
    {
     "name": "stdout",
     "output_type": "stream",
     "text": [
      "✅ date dtype assertions passed\n"
     ]
    }
   ],
   "source": [
    "# Hard guarantees (adjust as you like)\n",
    "assert all(str(df[c].dtype).startswith(\"datetime64\") for c in present), \"Some date columns are not datetime\"\n",
    "print(\"✅ date dtype assertions passed\")"
   ]
  },
  {
   "cell_type": "markdown",
   "id": "496c10ff",
   "metadata": {},
   "source": [
    "## ✅ Stopped here\n",
    "Dates are now parsed + audited. Next step = deeper cleaning & exploring columns."
   ]
  },
  {
   "cell_type": "code",
   "execution_count": 11,
   "id": "46b3886f",
   "metadata": {},
   "outputs": [
    {
     "name": "stdout",
     "output_type": "stream",
     "text": [
      "Reusing df in memory: (384, 54)\n"
     ]
    }
   ],
   "source": [
    "import pandas as pd\n",
    "\n",
    "if 'df' in globals():\n",
    "    print(\"Reusing df in memory:\", df.shape)\n",
    "else:\n",
    "    file = \"data/raw/driving_sample.xlsx\"\n",
    "    sheet = \"Journey_Event_Sample\"\n",
    "    header_idx = 0   # your sample has headers on the first row\n",
    "    df = pd.read_excel(\n",
    "        file, sheet_name=sheet, header=header_idx, nrows=400, usecols=\"B:BC\"\n",
    "    )\n",
    "    print(\"Loaded df:\", df.shape)"
   ]
  },
  {
   "cell_type": "code",
   "execution_count": 12,
   "id": "8179512a",
   "metadata": {},
   "outputs": [
    {
     "data": {
      "text/html": [
       "<div>\n",
       "<style scoped>\n",
       "    .dataframe tbody tr th:only-of-type {\n",
       "        vertical-align: middle;\n",
       "    }\n",
       "\n",
       "    .dataframe tbody tr th {\n",
       "        vertical-align: top;\n",
       "    }\n",
       "\n",
       "    .dataframe thead th {\n",
       "        text-align: right;\n",
       "    }\n",
       "</style>\n",
       "<table border=\"1\" class=\"dataframe\">\n",
       "  <thead>\n",
       "    <tr style=\"text-align: right;\">\n",
       "      <th></th>\n",
       "      <th>column</th>\n",
       "      <th>dtype</th>\n",
       "      <th>null_pct</th>\n",
       "      <th>n_unique</th>\n",
       "    </tr>\n",
       "  </thead>\n",
       "  <tbody>\n",
       "    <tr>\n",
       "      <th>0</th>\n",
       "      <td>Event Time Stamp</td>\n",
       "      <td>datetime64[ns]</td>\n",
       "      <td>0.00</td>\n",
       "      <td>384</td>\n",
       "    </tr>\n",
       "    <tr>\n",
       "      <th>1</th>\n",
       "      <td>GPS Date Time</td>\n",
       "      <td>datetime64[ns]</td>\n",
       "      <td>0.00</td>\n",
       "      <td>384</td>\n",
       "    </tr>\n",
       "    <tr>\n",
       "      <th>2</th>\n",
       "      <td>RTC Date Time</td>\n",
       "      <td>datetime64[ns]</td>\n",
       "      <td>0.00</td>\n",
       "      <td>384</td>\n",
       "    </tr>\n",
       "    <tr>\n",
       "      <th>3</th>\n",
       "      <td>Latitude</td>\n",
       "      <td>float64</td>\n",
       "      <td>0.00</td>\n",
       "      <td>352</td>\n",
       "    </tr>\n",
       "    <tr>\n",
       "      <th>4</th>\n",
       "      <td>Longitude</td>\n",
       "      <td>float64</td>\n",
       "      <td>0.00</td>\n",
       "      <td>359</td>\n",
       "    </tr>\n",
       "    <tr>\n",
       "      <th>5</th>\n",
       "      <td>Time Elapsed</td>\n",
       "      <td>float64</td>\n",
       "      <td>3.12</td>\n",
       "      <td>10</td>\n",
       "    </tr>\n",
       "    <tr>\n",
       "      <th>6</th>\n",
       "      <td>VIN</td>\n",
       "      <td>float64</td>\n",
       "      <td>100.00</td>\n",
       "      <td>0</td>\n",
       "    </tr>\n",
       "    <tr>\n",
       "      <th>7</th>\n",
       "      <td>Accumulated Trip Distance</td>\n",
       "      <td>int64</td>\n",
       "      <td>0.00</td>\n",
       "      <td>192</td>\n",
       "    </tr>\n",
       "    <tr>\n",
       "      <th>8</th>\n",
       "      <td>Accumulated Trip Idle Time</td>\n",
       "      <td>int64</td>\n",
       "      <td>0.00</td>\n",
       "      <td>140</td>\n",
       "    </tr>\n",
       "    <tr>\n",
       "      <th>9</th>\n",
       "      <td>Accumulated Trip Run Time</td>\n",
       "      <td>int64</td>\n",
       "      <td>0.00</td>\n",
       "      <td>102</td>\n",
       "    </tr>\n",
       "    <tr>\n",
       "      <th>10</th>\n",
       "      <td>Altitude</td>\n",
       "      <td>int64</td>\n",
       "      <td>0.00</td>\n",
       "      <td>183</td>\n",
       "    </tr>\n",
       "    <tr>\n",
       "      <th>11</th>\n",
       "      <td>Delta Accelerations 1</td>\n",
       "      <td>int64</td>\n",
       "      <td>0.00</td>\n",
       "      <td>21</td>\n",
       "    </tr>\n",
       "    <tr>\n",
       "      <th>12</th>\n",
       "      <td>Delta Accelerations 10</td>\n",
       "      <td>int64</td>\n",
       "      <td>0.00</td>\n",
       "      <td>1</td>\n",
       "    </tr>\n",
       "    <tr>\n",
       "      <th>13</th>\n",
       "      <td>Delta Accelerations 2</td>\n",
       "      <td>int64</td>\n",
       "      <td>0.00</td>\n",
       "      <td>24</td>\n",
       "    </tr>\n",
       "    <tr>\n",
       "      <th>14</th>\n",
       "      <td>Delta Accelerations 3</td>\n",
       "      <td>int64</td>\n",
       "      <td>0.00</td>\n",
       "      <td>14</td>\n",
       "    </tr>\n",
       "  </tbody>\n",
       "</table>\n",
       "</div>"
      ],
      "text/plain": [
       "                        column           dtype  null_pct  n_unique\n",
       "0             Event Time Stamp  datetime64[ns]      0.00       384\n",
       "1                GPS Date Time  datetime64[ns]      0.00       384\n",
       "2                RTC Date Time  datetime64[ns]      0.00       384\n",
       "3                     Latitude         float64      0.00       352\n",
       "4                    Longitude         float64      0.00       359\n",
       "5                 Time Elapsed         float64      3.12        10\n",
       "6                          VIN         float64    100.00         0\n",
       "7    Accumulated Trip Distance           int64      0.00       192\n",
       "8   Accumulated Trip Idle Time           int64      0.00       140\n",
       "9    Accumulated Trip Run Time           int64      0.00       102\n",
       "10                    Altitude           int64      0.00       183\n",
       "11       Delta Accelerations 1           int64      0.00        21\n",
       "12      Delta Accelerations 10           int64      0.00         1\n",
       "13       Delta Accelerations 2           int64      0.00        24\n",
       "14       Delta Accelerations 3           int64      0.00        14"
      ]
     },
     "execution_count": 12,
     "metadata": {},
     "output_type": "execute_result"
    }
   ],
   "source": [
    "# column auditing\n",
    "\n",
    "rows = []\n",
    "for col in df.columns:\n",
    "    s = df[col]\n",
    "    rows.append({\n",
    "        \"column\": col,\n",
    "        \"dtype\": str(s.dtype),\n",
    "        \"null_pct\": round(100 * (1 - s.notna().mean()), 2),\n",
    "        \"n_unique\": int(s.nunique(dropna=True)),\n",
    "    })\n",
    "audit = pd.DataFrame(rows).sort_values([\"dtype\",\"column\"]).reset_index(drop=True)\n",
    "audit.head(15)"
   ]
  },
  {
   "cell_type": "code",
   "execution_count": 13,
   "id": "32c99dc6",
   "metadata": {},
   "outputs": [
    {
     "name": "stdout",
     "output_type": "stream",
     "text": [
      "df_keep shape: (384, 13)\n"
     ]
    },
    {
     "data": {
      "text/plain": [
       "['Policy Number',\n",
       " 'Voucher ID',\n",
       " 'Journey ID',\n",
       " 'Event Time Stamp',\n",
       " 'GPS Date Time',\n",
       " 'Latitude',\n",
       " 'Longitude',\n",
       " 'Event Type',\n",
       " 'Horizontal Speed',\n",
       " 'Road Speed Limit',\n",
       " 'Accumulated Trip Distance',\n",
       " 'Accumulated Trip Idle Time',\n",
       " 'Accumulated Trip Run Time']"
      ]
     },
     "execution_count": 13,
     "metadata": {},
     "output_type": "execute_result"
    }
   ],
   "source": [
    "keep_cols = [\n",
    "    # identifiers\n",
    "    \"Policy Number\", \"Voucher ID\", \"Journey ID\",\n",
    "    # time\n",
    "    \"Event Time Stamp\", \"GPS Date Time\",\n",
    "    # location\n",
    "    \"Latitude\", \"Longitude\",\n",
    "    # motion/context\n",
    "    \"Event Type\", \"Horizontal Speed\", \"Road Speed Limit\",\n",
    "    # cumulative metrics\n",
    "    \"Accumulated Trip Distance\", \"Accumulated Trip Idle Time\", \"Accumulated Trip Run Time\",\n",
    "]\n",
    "\n",
    "keep_cols = [c for c in keep_cols if c in df.columns]\n",
    "df_keep = df[keep_cols].copy()\n",
    "print(\"df_keep shape:\", df_keep.shape)\n",
    "df_keep.columns.tolist()"
   ]
  },
  {
   "cell_type": "code",
   "execution_count": 27,
   "id": "e32a6ada",
   "metadata": {},
   "outputs": [
    {
     "name": "stdout",
     "output_type": "stream",
     "text": [
      "✅ Schema validation passed\n"
     ]
    }
   ],
   "source": [
    "# calling src.validate\n",
    "from src.validate import validate_journey_event\n",
    "validate_journey_event(df_keep)  # raises SchemaError if anything is off\n",
    "print(\"✅ Schema validation passed\")"
   ]
  },
  {
   "cell_type": "code",
   "execution_count": 14,
   "id": "f25208e6",
   "metadata": {},
   "outputs": [
    {
     "data": {
      "text/plain": [
       "Index(['Policy Number', 'Voucher ID', 'Journey ID', 'Event Time Stamp',\n",
       "       'GPS Date Time', 'Latitude', 'Longitude', 'Event Type',\n",
       "       'Horizontal Speed', 'Road Speed Limit', 'Accumulated Trip Distance',\n",
       "       'Accumulated Trip Idle Time', 'Accumulated Trip Run Time'],\n",
       "      dtype='object')"
      ]
     },
     "execution_count": 14,
     "metadata": {},
     "output_type": "execute_result"
    }
   ],
   "source": [
    "df_keep.columns"
   ]
  },
  {
   "cell_type": "code",
   "execution_count": 16,
   "id": "eed7a4ec",
   "metadata": {},
   "outputs": [],
   "source": [
    "from pathlib import Path\n",
    "Path(\"data/interim\").mkdir(parents=True, exist_ok=True)\n",
    "df_keep.to_parquet(\"data/interim/journey_event_sample_keep.parquet\", index=False)"
   ]
  },
  {
   "cell_type": "code",
   "execution_count": 28,
   "id": "07cac572",
   "metadata": {},
   "outputs": [
    {
     "data": {
      "text/plain": [
       "(['Event Type',\n",
       "  'Delta Trip Distance',\n",
       "  'Direction',\n",
       "  'Altitude',\n",
       "  'GPS Accuracy'],\n",
       "                       Event Type  Delta Trip Distance  Direction  Altitude  \\\n",
       " 0  Departure Event - ignition on                    0          0       266   \n",
       " 1                Trip Time Event                    0        331       244   \n",
       " \n",
       "    GPS Accuracy  \n",
       " 0             0  \n",
       " 1            93  )"
      ]
     },
     "execution_count": 28,
     "metadata": {},
     "output_type": "execute_result"
    }
   ],
   "source": [
    "probe = [\"Event Type\",\"Delta Trip Distance\",\"Direction\",\"Altitude\",\"GPS Accuracy\"]\n",
    "[c for c in probe if c in df.columns], df[probe].head(2)"
   ]
  }
 ],
 "metadata": {
  "kernelspec": {
   "display_name": ".venv",
   "language": "python",
   "name": "python3"
  },
  "language_info": {
   "codemirror_mode": {
    "name": "ipython",
    "version": 3
   },
   "file_extension": ".py",
   "mimetype": "text/x-python",
   "name": "python",
   "nbconvert_exporter": "python",
   "pygments_lexer": "ipython3",
   "version": "3.9.6"
  }
 },
 "nbformat": 4,
 "nbformat_minor": 5
}
